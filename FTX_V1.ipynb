{
  "nbformat": 4,
  "nbformat_minor": 0,
  "metadata": {
    "colab": {
      "name": "FTX.V1.ipynb",
      "provenance": [],
      "collapsed_sections": [
        "jI4TNeHOVop4",
        "B6oyjqJXb7G2",
        "mCEq72UKaxT-",
        "LqpWbqwa_uUx",
        "tSYQZx43OwqI",
        "_kIwMKPHX6DN",
        "Nf_WROxJDHdG",
        "GEPJVf__gwdq"
      ]
    },
    "kernelspec": {
      "display_name": "Python 3",
      "name": "python3"
    },
    "language_info": {
      "name": "python"
    }
  },
  "cells": [
    {
      "cell_type": "markdown",
      "metadata": {
        "id": "hLQz0SmRntLT"
      },
      "source": [
        "# Locais de referência para documentação:\n",
        "\n",
        "https://ccxt.readthedocs.io/en/latest/manual.html\n",
        "\n",
        "https://github.com/ccxt/ccxt/issues/8498\n",
        "\n"
      ]
    },
    {
      "cell_type": "markdown",
      "source": [
        "# 1 . Carregas as bibliotecas e as chaves para acesso via API"
      ],
      "metadata": {
        "id": "xRWeVD8HVW44"
      }
    },
    {
      "cell_type": "code",
      "metadata": {
        "id": "SdO7zq37JBxp"
      },
      "source": [
        "import numpy as np\n",
        "import pandas as pd\n",
        "import re"
      ],
      "execution_count": null,
      "outputs": []
    },
    {
      "cell_type": "code",
      "metadata": {
        "id": "27WH4P0NvVLe"
      },
      "source": [
        "!pip3 install ccxt"
      ],
      "execution_count": null,
      "outputs": []
    },
    {
      "cell_type": "code",
      "metadata": {
        "id": "-vERSzlWHPUJ"
      },
      "source": [
        "#as chaves de acesso estão presentes no arquivo keys.py\n",
        "from google.colab import files\n",
        "import keys\n",
        "from keys import var_apiKey,var_secret"
      ],
      "execution_count": null,
      "outputs": []
    },
    {
      "cell_type": "code",
      "source": [
        "!pip install nest-asyncio\n",
        "import nest_asyncio\n",
        "nest_asyncio.apply()"
      ],
      "metadata": {
        "id": "K_iFD2qRN5Bp"
      },
      "execution_count": null,
      "outputs": []
    },
    {
      "cell_type": "code",
      "source": [
        "# CCXT é a biblioteca que contém as funções de comunicação via API\n",
        "import asyncio\n",
        "import ccxt.async_support as ccxt  # noqa: E402"
      ],
      "metadata": {
        "id": "e3yFhMtnOAH_"
      },
      "execution_count": null,
      "outputs": []
    },
    {
      "cell_type": "markdown",
      "source": [
        "# 2. Cria a instância da corretora FTX"
      ],
      "metadata": {
        "id": "jI4TNeHOVop4"
      }
    },
    {
      "cell_type": "code",
      "source": [
        "# account poderia ser um vetor com outras contas.\n",
        "account = {'exchange_id': 'ftx', 'params': {'id': 'FTX', 'apiKey': var_apiKey, 'secret': var_secret}}\n",
        "exchange_class = getattr(ccxt, account['exchange_id'])\n",
        "exchange = exchange_class(account['params'])"
      ],
      "metadata": {
        "id": "EhWwB_vqOMEQ"
      },
      "execution_count": null,
      "outputs": []
    },
    {
      "cell_type": "markdown",
      "metadata": {
        "id": "B6oyjqJXb7G2"
      },
      "source": [
        "#3. Funções para carregar a Carteira"
      ]
    },
    {
      "cell_type": "code",
      "source": [
        "async def fetch_my_balance():\n",
        "        balance = await exchange.fetch_balance()\n",
        "        await exchange.close()\n",
        "        carteira = balance\n",
        "        return(carteira)"
      ],
      "metadata": {
        "id": "b5bmJiaUOiCH"
      },
      "execution_count": null,
      "outputs": []
    },
    {
      "cell_type": "code",
      "metadata": {
        "id": "Gctzk0VQUS0T"
      },
      "source": [
        "# já cria o df e manipula as colunas\n",
        "def carrega_carteira():\n",
        "#  carteira = exchange.fetch_balance ()\n",
        "  carteira = asyncio.get_event_loop().run_until_complete(fetch_my_balance())\n",
        "  dfcarteira = pd.DataFrame(data = carteira['info']['result']) #, columns=('Moeda','Saldo','Saldo Disponivel','Valor em USD'))\n",
        "  dfcarteira = dfcarteira[['coin','total','availableWithoutBorrow','usdValue']]\n",
        "  dfcarteira.columns=('Moeda','Saldo','Saldo Disponivel','Valor em USD')\n",
        "\n",
        "  dfcarteira.Saldo = dfcarteira.Saldo.astype(float)\n",
        "  dfcarteira['Saldo Disponivel'] = dfcarteira['Saldo Disponivel'].astype(float)\n",
        "  dfcarteira['Valor em USD'] = dfcarteira['Valor em USD'].astype(float)\n",
        "\n",
        "  dfcarteira = dfcarteira[dfcarteira['Saldo'] != 0]\n",
        "\n",
        "  dfcarteira['Valor Investido'] = int(0)\n",
        "  dfcarteira['Lucro'] = int(0)\n",
        "  dfcarteira['Percentual'] = int(0)\n",
        "  dfcarteira['Valor Compra'] = int(0)\n",
        "  dfcarteira['Valor Atual'] = int(0)\n",
        "\n",
        "  return(dfcarteira)\n"
      ],
      "execution_count": null,
      "outputs": []
    },
    {
      "cell_type": "markdown",
      "metadata": {
        "id": "mCEq72UKaxT-"
      },
      "source": [
        "#4. Funções para carregar todas as Trades e filtra as que não viraram ordens\n",
        "\n",
        "---\n",
        "\n"
      ]
    },
    {
      "cell_type": "code",
      "source": [
        "# chamada no modo async\n",
        "async def fetch_my_trades():\n",
        "        var_since = exchange.parse8601('2021-01-01T00:00:00Z')\n",
        "        trades = await exchange.fetchMyTrades(since=var_since)\n",
        "        await exchange.close()\n",
        "        temp = trades\n",
        "        return(temp)"
      ],
      "metadata": {
        "id": "IQs6IBcWSOeQ"
      },
      "execution_count": null,
      "outputs": []
    },
    {
      "cell_type": "code",
      "metadata": {
        "id": "65_6hvvhl6SS"
      },
      "source": [
        "# carrega as ordens\n",
        "def carrega_trades():\n",
        "\n",
        "\n",
        "  all_trades = asyncio.get_event_loop().run_until_complete(fetch_my_trades())\n",
        "  df_alltrades = pd.DataFrame(data = all_trades)\n",
        "\n",
        "  # trata os dicionatios dentro do dicionario, criando novas colunas com essas chaves \n",
        "  # e populando-as com os valores\n",
        "\n",
        "  dict_temp = df_alltrades.loc[0,'info']\n",
        "  for k in dict_temp.keys():\n",
        "    df_alltrades.loc[:,'info_'+k] = dict_temp[k]\n",
        "\n",
        "  dict_temp = df_alltrades.loc[0,'fee']\n",
        "  for k in dict_temp.keys():\n",
        "    df_alltrades.loc[:,'fee_'+k] =  dict_temp[k]\n",
        "\n",
        "  # cria o df das NEGOCIACOES QUE VIRARAM ordens,\n",
        "  #retirando aquelas ORDERS que nao foram executadas\n",
        "\n",
        "  df_trades = df_alltrades[~df_alltrades.order.isna()]\n",
        "  df_trades = df_trades.assign(fator=0)\n",
        "  df_trades = df_trades.assign(fatorquantidade=0)\n",
        "  df_trades = df_trades.assign(fatorvalor=0)\n",
        "  df_trades = df_trades.assign(quantacumulado=0)\n",
        "  df_trades = df_trades.assign(valormedio=0)\n",
        "  df_trades = df_trades.assign(valorinvestido=0)\n",
        "\n",
        "  return(df_trades,df_alltrades)"
      ],
      "execution_count": null,
      "outputs": []
    },
    {
      "cell_type": "markdown",
      "metadata": {
        "id": "LqpWbqwa_uUx"
      },
      "source": [
        "#5. Funções para cálculos de médias"
      ]
    },
    {
      "cell_type": "code",
      "metadata": {
        "id": "ys_NKp6_YPCJ"
      },
      "source": [
        "## Funcao para criar valores que serão usados posteriormente para cálculo das médias\n",
        "def calcaux(df):\n",
        "  # separo o df desta moeda em duas partes: compra e venda\n",
        "\n",
        "  # aqui vou tratar as informaçoes sobre vendas\n",
        "  dfvenda = df.loc[df['side'] == 'sell']           # filtro somente o que é sell\n",
        "  dfvenda['fator'] = int(-1)                       # a variácel fator receve -1, que simboliza venda\n",
        "  dfvenda['fatorvalor'] = dfvenda['fator'] * dfvenda['price'] * dfvenda['amount']  # representa o montande em dollar do vendido\n",
        "  dfvenda['fatorquantidade'] = dfvenda['fator'] * dfvenda['amount']                # representa a quantidade vendida\n",
        "  # avgFillPrice => valor = price\n",
        "  # filledSize   => quantidade = amount\n",
        "\n",
        "  # aqui vou tratar as informaçoes sobre compras\n",
        "  dfcompra = df.loc[df['side'] == 'buy'] # filtro somente o que é buy\n",
        "  dfcompra['fator'] = int(1)\n",
        "  dfcompra['fatorvalor'] = dfcompra['fator'] * dfcompra['price'] * dfcompra['amount']\n",
        "  dfcompra['fatorquantidade'] = dfcompra['fator'] * dfcompra['amount']\n",
        "  \n",
        "  df = pd.concat([dfcompra, dfvenda])   # junto o df que fora dividido em compre e venda\n",
        "  df.sort_values(['timestamp','id'], ascending=True,inplace=True)  # ordeno por data\n",
        "  return(df)"
      ],
      "execution_count": null,
      "outputs": []
    },
    {
      "cell_type": "code",
      "metadata": {
        "id": "ntEeWbMy4e8j"
      },
      "source": [
        "# funcao que calcula a média ponderada dos valor de compra\n",
        "def calc_mediaponderada(df):\n",
        "\n",
        "#8 side       (buy ou sell)\n",
        "#9 price      valor unitário do token\n",
        "#10 amount    quantidade\n",
        "#11 cost      valor total = token * quantidade\n",
        "#12 fee\n",
        "#33 fator     1 para compra e -1 para venda\n",
        "#34 fatorquantidade\n",
        "#35 fatorvalor\n",
        "#36 quantacumulado\n",
        "#37 valormedio\n",
        "#38 valorinvestido\n",
        "\n",
        "  for x in range(len(df)):\n",
        "    if df.iloc[x,8] == 'buy':\n",
        "      df.iloc[x,33] =  1    # fator\n",
        "    else:\n",
        "      df.iloc[x,33] = -1    # fator\n",
        "\n",
        "\n",
        "    df.iloc[x,34] = df.iloc[x,33]*df.iloc[x,10]       #34 fatorquantidade\n",
        "    df.iloc[x,35] = df.iloc[x,33]*df.iloc[x,11]       #35 fatorvalor\n",
        "    if x == 0:\n",
        "      df.iloc[0,36] = df.iloc[0,33]*df.iloc[0,10]      # quantidade acumulada\n",
        "      df.iloc[0,37] = df.iloc[0,33]*df.iloc[0,9]       # valor medio\n",
        "    else:\n",
        "      if df.iloc[x,8] == 'buy':\n",
        "        df.iloc[x,36] = df.iloc[x-1,36] + df.iloc[x,10]           #36 quantacumulado\n",
        "        df.iloc[x,37] =(df.iloc[x,9] * df.iloc[x,10]  + df.iloc[x-1,36] * df.iloc[x-1,37] ) / df.iloc[x,36] \n",
        "                       # valor atual * quanti atual + media * acumulado / total\n",
        "        #print(df.iloc[x,37])\n",
        "      else: # venda\n",
        "        df.iloc[x,36] = df.iloc[x-1,36] - df.iloc[x,10]          #36 quantacumulado\n",
        "        df.iloc[x,37] = df.iloc[x-1,37]          #37 valormedio  # quando vende, a media nao muda\n",
        "\n",
        "\n",
        "    df.iloc[x,38] = df.iloc[x,36] * df.iloc[x,37]               # valor investido baseado no valor medio\n",
        "    #print(f'vai limpar??: {df.iloc[x,38]}  =  {df.iloc[x,36]}  *  {df.iloc[x,37]}')\n",
        "    if (df.iloc[x,38] < 0.1):             # quando quantidade em US$ é pequena, representa resíduo e na verdade vendeu tudo        \n",
        "      df.iloc[x,36] = 0\n",
        "      df.iloc[x,37] = 0 \n",
        "      df.iloc[x,38] = 0 \n",
        "      \n",
        "  return(df)"
      ],
      "execution_count": null,
      "outputs": []
    },
    {
      "cell_type": "code",
      "metadata": {
        "id": "kCSSdoY9NbL_"
      },
      "source": [
        "## Gera um arquivo com as informações presentes no dataframe\n",
        "def geraarquivohistorico(df,nome):\n",
        "#colocar no final as colunas que nao interessam\n",
        "\n",
        "  cols_at_end = ['info', 'timestamp', 'id', 'order', 'type',\n",
        "       'takerOrMaker', 'fee', 'info_id',\n",
        "       'info_market', 'info_future', 'info_baseCurrency', 'info_quoteCurrency',\n",
        "       'info_type', 'info_side', 'info_price', 'info_size', 'info_orderId',\n",
        "       'info_time', 'info_tradeId', 'info_feeRate', 'info_fee',\n",
        "       'info_feeCurrency', 'info_liquidity', 'fee_cost', 'fee_currency',\n",
        "       'fee_rate', 'fator', 'fatorquantidade', 'fatorvalor']\n",
        "\n",
        "  #cols_at_end = ['id', 'clientId','status','fator']\n",
        "  df = df[[c for c in df if c not in cols_at_end] \n",
        "        + [c for c in cols_at_end if c in df]]\n",
        "  #df.head()\n",
        "  df = df.sort_values('timestamp',ascending=False)\n",
        "  df.to_csv(nome, header=True,sep=';',decimal=',',index=False)"
      ],
      "execution_count": null,
      "outputs": []
    },
    {
      "cell_type": "code",
      "metadata": {
        "id": "0z2KSlK9-YD9"
      },
      "source": [
        "## acrescenta /USD naquelas que nao sao tipo PERP,  LOCKED nem USD\n",
        "def nome_completo(acao):\n",
        "  if 'LOCKED' in acao:\n",
        "    return(acao)\n",
        "  elif 'PERP' in acao:\n",
        "    return(acao)\n",
        "  elif 'USD' in acao:\n",
        "    return(acao)\n",
        "  else:\n",
        "    return(acao + '/USD')"
      ],
      "execution_count": null,
      "outputs": []
    },
    {
      "cell_type": "code",
      "metadata": {
        "id": "QB02dlEM4e9Y"
      },
      "source": [
        "# coloca no dataframe carteira as informações de média que foram previamente calculadas e presentes no dataframa dados_brutos\n",
        "# retorna a carteira com os valores de perda e genho\n",
        "def acrescenta_media(dfdados,dfcarteira):\n",
        "  valor_medio = 0\n",
        "  for i in range(len(dfcarteira)):            # loop para cada item na carteira\n",
        "    acao = dfcarteira.iloc[i]['Moeda']\n",
        "    acao = nome_completo(acao)           # acrescendo o sufixo no nome do token\n",
        "    #print(f'2 {acao}')\n",
        "    try:\n",
        "      # o valor medio de compra é pego no df trades, pegando o campo valormedio do registro mais recente\n",
        "      valor_medio = float(dfdados[dfdados['timestamp'] == dfdados[dfdados['symbol']==acao].timestamp.max()].valormedio)\n",
        "      # para o valor de marcado, é usado novamete a API e pego o valor instantaneo \n",
        "      valor_mercado =  exchange.markets[acao]['info']['price'] \n",
        "      flag = 1\n",
        "    except:\n",
        "\n",
        "      valor_medio = 0\n",
        "      valor_mercado = 0\n",
        "      flag = 0\n",
        "\n",
        "    dfcarteira.iloc[i,4] = round(valor_medio  * dfcarteira.iloc[i]['Saldo'],2)           # 4 é o montante investido\n",
        "    dfcarteira.iloc[i,5] = round(dfcarteira.iloc[i,3] - dfcarteira.iloc[i,4],2)               # 5 é o lucro, sendo 3 o montante corrente\n",
        "    if flag:\n",
        "      if (dfcarteira.iloc[i,4] > dfcarteira.iloc[i,3]):\n",
        "      # deu lucro\n",
        "        dfcarteira.iloc[i,6] = f'{(dfcarteira.iloc[i,3]/dfcarteira.iloc[i,4] - 1 ) * 100:.2f} %'\n",
        "      else:\n",
        "      # deu prejuizo\n",
        "        dfcarteira.iloc[i,6] = f'{-(1 - dfcarteira.iloc[i,3]/dfcarteira.iloc[i,4]) * 100:.2f} %'\n",
        "\n",
        "      dfcarteira.iloc[i,7] = valor_medio\n",
        "      dfcarteira.iloc[i,8] = valor_mercado\n",
        "    #print(valor_mercado)\n",
        "    #print(acao,dfcarteira.iloc[i]['Valor Investido'])\n",
        "  #print(saldo['Valor Investido'])\n",
        "  return(dfcarteira)"
      ],
      "execution_count": null,
      "outputs": []
    },
    {
      "cell_type": "markdown",
      "metadata": {
        "id": "tSYQZx43OwqI"
      },
      "source": [
        "#6.  Funções para carregar as ordens abertas (FecthOpenOrders) para ordens NORMAIS\n"
      ]
    },
    {
      "cell_type": "code",
      "source": [
        "# chamada no modo async\n",
        "async def fetch_my_openorders():\n",
        "  exchange.options['fetchOpenOrders']['method'] = None\n",
        "  ordens = await exchange.fetchOpenOrders()\n",
        "  await exchange.close()\n",
        "  temp = ordens\n",
        "  return(temp)"
      ],
      "metadata": {
        "id": "6nQDmPEvgAqs"
      },
      "execution_count": null,
      "outputs": []
    },
    {
      "cell_type": "code",
      "metadata": {
        "id": "oAsoe0G-O3cB"
      },
      "source": [
        "def carrega_ordens():\n",
        "  df_openorderssummary = pd.DataFrame()\n",
        "\n",
        "  open_orders = asyncio.get_event_loop().run_until_complete(fetch_my_openorders())\n",
        "\n",
        "  if len(open_orders) > 0 :\n",
        "    df_openorders = pd.DataFrame(data = open_orders)\n",
        "    dict_temp = df_openorders.loc[0,'info']\n",
        "  \n",
        "    # trata os dicionatios dentro do dicionario, criando novas colunas com essas chaves e populando-as com os valores\n",
        "    for k in dict_temp.keys():\n",
        "      df_openorders.loc[:,'info_'+k] = dict_temp[k]\n",
        "\n",
        "    df_openorderssummary = pd.DataFrame()\n",
        "    df_openorderssummary[['datetime','symbol','side','price','amount','cost']] = df_openorders[['datetime','symbol','side','price','amount','cost']]\n",
        "    df_openorderssummary['tipo'] = 'normal'\n",
        "    df_openorderssummary.cost = df_openorderssummary.price * df_openorderssummary.amount\n",
        "\n",
        "  return(df_openorderssummary)"
      ],
      "execution_count": null,
      "outputs": []
    },
    {
      "cell_type": "markdown",
      "metadata": {
        "id": "_kIwMKPHX6DN"
      },
      "source": [
        "#7.  Funções para carregar as ordens abertas (fetchOpenOrders {PARAM}) para ordens GATILHO"
      ]
    },
    {
      "cell_type": "code",
      "source": [
        "# chamada no modo async\n",
        "async def fetch_my_trigerorders():\n",
        "  exchange.options['fetchOpenOrders']['method'] = 'privateGetConditionalOrders'\n",
        "  ordens = await exchange.fetchOpenOrders()\n",
        "  await exchange.close()\n",
        "  temp = ordens\n",
        "  return(temp)"
      ],
      "metadata": {
        "id": "3lgFYy_lhfHX"
      },
      "execution_count": null,
      "outputs": []
    },
    {
      "cell_type": "code",
      "metadata": {
        "id": "m4p8o_vRYAJj"
      },
      "source": [
        "# carrega as ordens tipo gatilho. É a mesma função que carrega as ordens tradicionais, mas com um parametro especial\n",
        "def carrega_ordensgatilho():\n",
        "  df_triggerorderssummary = pd.DataFrame()\n",
        "  if exchange.has['fetchOpenOrders']:\n",
        "    trigger_orders = asyncio.get_event_loop().run_until_complete(fetch_my_trigerorders())\n",
        "\n",
        "  if len(trigger_orders) > 0 :\n",
        "    ## JA TRANSFORMA LOGO EM DATAFRAME\n",
        "    df_triggerorders = pd.DataFrame(data = trigger_orders)\n",
        "\n",
        "    # trata os dicionatios dentro do dicionario, criando novas colunas com essas chaves e populando-as com os valores\n",
        "    dict_temp = df_triggerorders.loc[0,'info']\n",
        "    for k in dict_temp.keys():\n",
        "      df_triggerorders.loc[:,'info_'+k] = dict_temp[k]\n",
        "\n",
        "\n",
        "    df_triggerorderssummary[['datetime','symbol','side','price','amount','cost']] = df_triggerorders[['datetime','symbol','side','price','amount','cost']]\n",
        "    df_triggerorderssummary['tipo'] = 'gatilho'\n",
        "    df_triggerorderssummary.cost = df_triggerorderssummary.price * df_triggerorderssummary.amount\n",
        "  return(df_triggerorderssummary)"
      ],
      "execution_count": null,
      "outputs": []
    },
    {
      "cell_type": "markdown",
      "metadata": {
        "id": "Nf_WROxJDHdG"
      },
      "source": [
        "#8. MODULO PRINCIPAL"
      ]
    },
    {
      "cell_type": "markdown",
      "source": [
        "## 8.1 Primeiro carrega todas as cotações"
      ],
      "metadata": {
        "id": "fr3Dlda-ASbz"
      }
    },
    {
      "cell_type": "code",
      "source": [
        "# chamada no modo async\n",
        "async def load_my_markets():\n",
        "        trades = await exchange.load_markets(True)    # TRUE FORÇA A ATUALIZAR COM UMA NOVA CONSULTA\n",
        "        await exchange.close()\n",
        "        temp = trades\n",
        "        return(temp)"
      ],
      "metadata": {
        "id": "WJi5oawuSZBk"
      },
      "execution_count": null,
      "outputs": []
    },
    {
      "cell_type": "markdown",
      "source": [
        "##8.2 Inicia as variáveis (dataframes) e o processamento"
      ],
      "metadata": {
        "id": "cMtcuKiLAb5w"
      }
    },
    {
      "cell_type": "code",
      "source": [
        "if __name__ == '__main__':\n",
        "  df_dadosbrutos = pd.DataFrame()\n",
        "  df_orders =      pd.DataFrame()\n",
        "  df_carteira =    pd.DataFrame()\n",
        "  df_trades =      pd.DataFrame()\n",
        "  df_alltrades =   pd.DataFrame()\n",
        "\n",
        "  markets = asyncio.get_event_loop().run_until_complete(load_my_markets())  # carrega todas as cotacoes correntes\n",
        "\n",
        "  df_carteira = carrega_carteira()\n",
        "  df_trades,df_alltrades = carrega_trades()\n",
        "\n",
        "  #sao todas as acoes que eu ja tive alguma ordem executada\n",
        "  listaacoes = df_trades[df_trades['amount'].notnull()].symbol\n",
        "  listaacoes = list(set(listaacoes))  # remove as duplicadas\n",
        "\n",
        "  # LOOP PARA CADA ACAO PRESENTE NA CARTEIRA\n",
        "  for acao in listaacoes:\n",
        "\n",
        "    #filtrar o df com a acao do loop\n",
        "    dftemp = df_trades[df_trades['symbol'] == acao]\n",
        "\n",
        "    #acrescenta as colunas auxiliares\n",
        "    dftemp = calcaux(dftemp)\n",
        " \n",
        "    #acrescenta as medias\n",
        "    dftemp = calc_mediaponderada(dftemp) # nova versao. Era #dftemp = calcmedia(dftemp)\n",
        "\n",
        "    #concatena resultado de cada acao em dadosbrutos\n",
        "    df_dadosbrutos = pd.concat([df_dadosbrutos, dftemp])\n",
        "  \n",
        "    # termino com as médias acrescentadas no df dados brutos, onde estao todas as trades\n",
        "\n",
        "  #colocar as informacoes em um arquivo\n",
        "  geraarquivohistorico(df_dadosbrutos,nome='ordens.csv')\n",
        "\n",
        "\n",
        "  # baseado nas médias presentes em dadosbrutos,\n",
        "  # calcula os ganhos e perdas e coloca no dataframe carteira\n",
        "  df_carteira = acrescenta_media(df_dadosbrutos,df_carteira)\n",
        "\n",
        "  # Vou consultar as ordens em aberto e no final guardar em um arquivo\n",
        "\n",
        "  df_openorderssummary    = carrega_ordens()\n",
        "  df_triggerorderssummary = carrega_ordensgatilho()\n",
        "\n",
        "  if len(df_openorderssummary) > 0:       # CASO TENHA ALGUMA ORDEM ABERTA\n",
        "    df_orders = df_orders.append(df_openorderssummary)\n",
        "    if len(df_triggerorderssummary) > 0:  # CASO TENHA ALGUMA ORDEM TRIGGER ABERTA\n",
        "      df_orders = df_orders.append(df_triggerorderssummary)\n",
        "\n",
        "    df_orders.sort_values(['symbol'],inplace=True, ascending=False)\n",
        "    df_orders.to_csv(\"openorders.csv\", header=True,sep=';',decimal=',',index=False)\n",
        "\n",
        "  df_carteira.sort_values(['Lucro'],inplace=True, ascending=False)\n",
        "  df_carteira.to_csv(\"carteira.csv\", header=True,sep=';',decimal=',',index=False)\n",
        "\n",
        "  df_alltrades.sort_values(['timestamp'],inplace=True, ascending=False)\n",
        "  df_alltrades.to_csv(\"alltrades.csv\", header=True,sep=';',decimal=',',index=False)"
      ],
      "metadata": {
        "id": "-zgjLjNNIMZX"
      },
      "execution_count": null,
      "outputs": []
    },
    {
      "cell_type": "markdown",
      "source": [
        "#9. Relatórios em tela"
      ],
      "metadata": {
        "id": "GEPJVf__gwdq"
      }
    },
    {
      "cell_type": "markdown",
      "source": [
        "##9.1 Lista a Carteria ordenada pela coluna 'Lucro', acrescentando o saldo no cabeçalho.\n",
        "\n",
        "O campo \"Valor Compra\" possui o valor medio de compra da moeda, informação está que é usada para calcular o lucro ou prejuízo que é declarado no IR"
      ],
      "metadata": {
        "id": "ez2-IYVLlFMM"
      }
    },
    {
      "cell_type": "code",
      "source": [
        "#markets.keys()\n",
        "#markets['BTC/USD'].keys()\n",
        "markets['BTC/USD']['info']['price']\n",
        "\n",
        "#markets['SRM/USD'].keys()\n",
        "#markets['SRM/USD']['info']['price']\n"
      ],
      "metadata": {
        "id": "HLK5PzYxTjHr"
      },
      "execution_count": null,
      "outputs": []
    },
    {
      "cell_type": "code",
      "metadata": {
        "id": "IQAZmh-d_RP4"
      },
      "source": [
        "temp = 'Valor (' + str(int(df_carteira['Valor em USD'].sum())) + ' USD)'\n",
        "df_carteira.rename(columns={'Valor em USD' : temp},  inplace = True)\n",
        "df_carteira"
      ],
      "execution_count": null,
      "outputs": []
    },
    {
      "cell_type": "markdown",
      "source": [
        "##9.2 Lista as Ordens abertas, indicando o tipo (normar ou gatinho)"
      ],
      "metadata": {
        "id": "dueGbwkKleRC"
      }
    },
    {
      "cell_type": "code",
      "metadata": {
        "id": "3pIi9a2_BRBP"
      },
      "source": [
        "df_orders.head(100)"
      ],
      "execution_count": null,
      "outputs": []
    },
    {
      "cell_type": "markdown",
      "source": [
        "##9.3 Lista as informacões mais relevantes de transações sobre uma determinada moeda. Nesse exemplo BTC/USD"
      ],
      "metadata": {
        "id": "d3ILZXkGmOGV"
      }
    },
    {
      "cell_type": "code",
      "metadata": {
        "id": "ZOw1SmSDFJNQ"
      },
      "source": [
        "df_dadosbrutos[df_dadosbrutos.symbol == 'SRM/USD'][['datetime','side','quantacumulado','price','amount','cost']].sort_values('datetime',ascending=False)\n"
      ],
      "execution_count": null,
      "outputs": []
    }
  ]
}