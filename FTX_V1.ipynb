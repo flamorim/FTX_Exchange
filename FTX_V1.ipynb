{
  "nbformat": 4,
  "nbformat_minor": 0,
  "metadata": {
    "colab": {
      "name": "FTX.V1.ipynb",
      "provenance": [],
      "collapsed_sections": [
        "xRWeVD8HVW44",
        "B6oyjqJXb7G2",
        "mCEq72UKaxT-",
        "LqpWbqwa_uUx",
        "tSYQZx43OwqI",
        "_kIwMKPHX6DN"
      ]
    },
    "kernelspec": {
      "display_name": "Python 3",
      "name": "python3"
    },
    "language_info": {
      "name": "python"
    }
  },
  "cells": [
    {
      "cell_type": "markdown",
      "metadata": {
        "id": "hLQz0SmRntLT"
      },
      "source": [
        "# Locais de referência para documentação:\n",
        "\n",
        "https://ccxt.readthedocs.io/en/latest/manual.html\n",
        "\n",
        "https://github.com/ccxt/ccxt/issues/8498\n",
        "\n"
      ]
    },
    {
      "cell_type": "markdown",
      "source": [
        "# 1 . Carregas as bibliotecas e as chaves para acesso via API"
      ],
      "metadata": {
        "id": "xRWeVD8HVW44"
      }
    },
    {
      "cell_type": "code",
      "metadata": {
        "id": "SdO7zq37JBxp"
      },
      "source": [
        "import numpy as np\n",
        "import pandas as pd\n",
        "import re"
      ],
      "execution_count": 1,
      "outputs": []
    },
    {
      "cell_type": "code",
      "metadata": {
        "colab": {
          "base_uri": "https://localhost:8080/",
          "height": 948
        },
        "id": "27WH4P0NvVLe",
        "outputId": "a4789727-ea8d-4a29-acfd-ebc4609bf2cb"
      },
      "source": [
        "!pip3 install ccxt"
      ],
      "execution_count": 2,
      "outputs": [
        {
          "output_type": "stream",
          "name": "stdout",
          "text": [
            "Collecting ccxt\n",
            "  Downloading ccxt-1.80.76-py2.py3-none-any.whl (2.6 MB)\n",
            "\u001b[K     |████████████████████████████████| 2.6 MB 9.4 MB/s \n",
            "\u001b[?25hCollecting cryptography>=2.6.1\n",
            "  Downloading cryptography-36.0.2-cp36-abi3-manylinux_2_24_x86_64.whl (3.6 MB)\n",
            "\u001b[K     |████████████████████████████████| 3.6 MB 5.4 MB/s \n",
            "\u001b[?25hCollecting yarl==1.7.2\n",
            "  Downloading yarl-1.7.2-cp37-cp37m-manylinux_2_5_x86_64.manylinux1_x86_64.manylinux_2_12_x86_64.manylinux2010_x86_64.whl (271 kB)\n",
            "\u001b[K     |████████████████████████████████| 271 kB 43.9 MB/s \n",
            "\u001b[?25hCollecting setuptools>=60.9.0\n",
            "  Downloading setuptools-62.1.0-py3-none-any.whl (1.1 MB)\n",
            "\u001b[K     |████████████████████████████████| 1.1 MB 36.1 MB/s \n",
            "\u001b[?25hCollecting aiodns>=1.1.1\n",
            "  Downloading aiodns-3.0.0-py3-none-any.whl (5.0 kB)\n",
            "Requirement already satisfied: requests>=2.18.4 in /usr/local/lib/python3.7/dist-packages (from ccxt) (2.23.0)\n",
            "Collecting aiohttp>=3.8\n",
            "  Downloading aiohttp-3.8.1-cp37-cp37m-manylinux_2_5_x86_64.manylinux1_x86_64.manylinux_2_12_x86_64.manylinux2010_x86_64.whl (1.1 MB)\n",
            "\u001b[K     |████████████████████████████████| 1.1 MB 36.1 MB/s \n",
            "\u001b[?25hRequirement already satisfied: certifi>=2018.1.18 in /usr/local/lib/python3.7/dist-packages (from ccxt) (2021.10.8)\n",
            "Requirement already satisfied: idna>=2.0 in /usr/local/lib/python3.7/dist-packages (from yarl==1.7.2->ccxt) (2.10)\n",
            "Collecting multidict>=4.0\n",
            "  Downloading multidict-6.0.2-cp37-cp37m-manylinux_2_17_x86_64.manylinux2014_x86_64.whl (94 kB)\n",
            "\u001b[K     |████████████████████████████████| 94 kB 2.7 MB/s \n",
            "\u001b[?25hRequirement already satisfied: typing-extensions>=3.7.4 in /usr/local/lib/python3.7/dist-packages (from yarl==1.7.2->ccxt) (4.2.0)\n",
            "Collecting pycares>=4.0.0\n",
            "  Downloading pycares-4.1.2-cp37-cp37m-manylinux_2_5_x86_64.manylinux1_x86_64.manylinux_2_12_x86_64.manylinux2010_x86_64.whl (291 kB)\n",
            "\u001b[K     |████████████████████████████████| 291 kB 41.8 MB/s \n",
            "\u001b[?25hCollecting frozenlist>=1.1.1\n",
            "  Downloading frozenlist-1.3.0-cp37-cp37m-manylinux_2_5_x86_64.manylinux1_x86_64.manylinux_2_17_x86_64.manylinux2014_x86_64.whl (144 kB)\n",
            "\u001b[K     |████████████████████████████████| 144 kB 52.3 MB/s \n",
            "\u001b[?25hCollecting asynctest==0.13.0\n",
            "  Downloading asynctest-0.13.0-py3-none-any.whl (26 kB)\n",
            "Requirement already satisfied: attrs>=17.3.0 in /usr/local/lib/python3.7/dist-packages (from aiohttp>=3.8->ccxt) (21.4.0)\n",
            "Requirement already satisfied: charset-normalizer<3.0,>=2.0 in /usr/local/lib/python3.7/dist-packages (from aiohttp>=3.8->ccxt) (2.0.12)\n",
            "Collecting aiosignal>=1.1.2\n",
            "  Downloading aiosignal-1.2.0-py3-none-any.whl (8.2 kB)\n",
            "Collecting async-timeout<5.0,>=4.0.0a3\n",
            "  Downloading async_timeout-4.0.2-py3-none-any.whl (5.8 kB)\n",
            "Requirement already satisfied: cffi>=1.12 in /usr/local/lib/python3.7/dist-packages (from cryptography>=2.6.1->ccxt) (1.15.0)\n",
            "Requirement already satisfied: pycparser in /usr/local/lib/python3.7/dist-packages (from cffi>=1.12->cryptography>=2.6.1->ccxt) (2.21)\n",
            "Requirement already satisfied: urllib3!=1.25.0,!=1.25.1,<1.26,>=1.21.1 in /usr/local/lib/python3.7/dist-packages (from requests>=2.18.4->ccxt) (1.24.3)\n",
            "Requirement already satisfied: chardet<4,>=3.0.2 in /usr/local/lib/python3.7/dist-packages (from requests>=2.18.4->ccxt) (3.0.4)\n",
            "Installing collected packages: multidict, frozenlist, yarl, pycares, asynctest, async-timeout, aiosignal, setuptools, cryptography, aiohttp, aiodns, ccxt\n",
            "  Attempting uninstall: setuptools\n",
            "    Found existing installation: setuptools 57.4.0\n",
            "    Uninstalling setuptools-57.4.0:\n",
            "      Successfully uninstalled setuptools-57.4.0\n",
            "\u001b[31mERROR: pip's dependency resolver does not currently take into account all the packages that are installed. This behaviour is the source of the following dependency conflicts.\n",
            "tensorflow 2.8.0 requires tf-estimator-nightly==2.8.0.dev2021122109, which is not installed.\n",
            "datascience 0.10.6 requires folium==0.2.1, but you have folium 0.8.3 which is incompatible.\u001b[0m\n",
            "Successfully installed aiodns-3.0.0 aiohttp-3.8.1 aiosignal-1.2.0 async-timeout-4.0.2 asynctest-0.13.0 ccxt-1.80.76 cryptography-36.0.2 frozenlist-1.3.0 multidict-6.0.2 pycares-4.1.2 setuptools-62.1.0 yarl-1.7.2\n"
          ]
        },
        {
          "output_type": "display_data",
          "data": {
            "application/vnd.colab-display-data+json": {
              "pip_warning": {
                "packages": [
                  "pkg_resources"
                ]
              }
            }
          },
          "metadata": {}
        }
      ]
    },
    {
      "cell_type": "code",
      "metadata": {
        "id": "-vERSzlWHPUJ"
      },
      "source": [
        "#as chaves de acesso estão presentes no arquivo keys.py\n",
        "from google.colab import files\n",
        "import keys\n",
        "from keys import var_apiKey,var_secret"
      ],
      "execution_count": 3,
      "outputs": []
    },
    {
      "cell_type": "code",
      "source": [
        "#var_apiKey = \"NY03UwGKcJeGtYYlmeXM61ZtSGQPMdYVMOvx9Jt-\"\n",
        "#var_secret = \"MXZGFTLrP3KJzX4kjwx03taloTwh7eRV3E3xs9kX\""
      ],
      "metadata": {
        "id": "m-XyOn5qJ0NZ"
      },
      "execution_count": null,
      "outputs": []
    },
    {
      "cell_type": "code",
      "source": [
        "#var_apiKey = \"G1JO4qlc05TUYcwI0VEMzcvV60FQ8GHGJTDMMaFU\"\n",
        "#var_secret = \"e62u67JQMWc8uQ_Mu9KxwksKjGriVLHpNu_yhqnC\""
      ],
      "metadata": {
        "id": "GQ_uz3EgLJaH"
      },
      "execution_count": null,
      "outputs": []
    },
    {
      "cell_type": "code",
      "source": [
        "!pip install nest-asyncio\n",
        "import nest_asyncio\n",
        "nest_asyncio.apply()"
      ],
      "metadata": {
        "colab": {
          "base_uri": "https://localhost:8080/"
        },
        "id": "K_iFD2qRN5Bp",
        "outputId": "ead730fe-18b4-4314-f59c-a0c8585738a7"
      },
      "execution_count": 4,
      "outputs": [
        {
          "output_type": "stream",
          "name": "stdout",
          "text": [
            "Requirement already satisfied: nest-asyncio in /usr/local/lib/python3.7/dist-packages (1.5.5)\n"
          ]
        }
      ]
    },
    {
      "cell_type": "code",
      "source": [
        "# CCXT é a biblioteca que contém as funções de comunicação via API\n",
        "import asyncio\n",
        "import ccxt.async_support as ccxt  # noqa: E402"
      ],
      "metadata": {
        "id": "e3yFhMtnOAH_"
      },
      "execution_count": 5,
      "outputs": []
    },
    {
      "cell_type": "markdown",
      "source": [
        "# 2. Cria a instância da corretora FTX"
      ],
      "metadata": {
        "id": "jI4TNeHOVop4"
      }
    },
    {
      "cell_type": "code",
      "source": [
        "# account poderia ser um vetor com outras contas.\n",
        "account = {'exchange_id': 'ftx', 'params': {'id': 'FTX', 'apiKey': var_apiKey, 'secret': var_secret}}\n",
        "exchange_class = getattr(ccxt, account['exchange_id'])\n",
        "exchange = exchange_class(account['params'])"
      ],
      "metadata": {
        "id": "EhWwB_vqOMEQ"
      },
      "execution_count": 6,
      "outputs": []
    },
    {
      "cell_type": "markdown",
      "metadata": {
        "id": "B6oyjqJXb7G2"
      },
      "source": [
        "#3. Funções para carregar a Carteira"
      ]
    },
    {
      "cell_type": "code",
      "source": [
        "async def fetch_my_balance():\n",
        "        balance = await exchange.fetch_balance()\n",
        "        await exchange.close()\n",
        "        carteira = balance\n",
        "        return(carteira)"
      ],
      "metadata": {
        "id": "b5bmJiaUOiCH"
      },
      "execution_count": 7,
      "outputs": []
    },
    {
      "cell_type": "code",
      "metadata": {
        "id": "Gctzk0VQUS0T"
      },
      "source": [
        "# já cria o df e manipula as colunas\n",
        "def carrega_carteira():\n",
        "#  carteira = exchange.fetch_balance ()\n",
        "  carteira = asyncio.get_event_loop().run_until_complete(fetch_my_balance())\n",
        "  dfcarteira = pd.DataFrame(data = carteira['info']['result']) #, columns=('Moeda','Saldo','Saldo Disponivel','Valor em USD'))\n",
        "  dfcarteira = dfcarteira[['coin','total','availableWithoutBorrow','usdValue']]\n",
        "  dfcarteira.columns=('Moeda','Saldo','Saldo Disponivel','Valor em USD')\n",
        "\n",
        "  dfcarteira.Saldo = dfcarteira.Saldo.astype(float)\n",
        "  dfcarteira['Saldo Disponivel'] = dfcarteira['Saldo Disponivel'].astype(float)\n",
        "  dfcarteira['Valor em USD'] = dfcarteira['Valor em USD'].astype(float)\n",
        "\n",
        "  dfcarteira = dfcarteira[dfcarteira['Saldo'] != 0]\n",
        "\n",
        "  dfcarteira['Valor Investido'] = int(0)\n",
        "  dfcarteira['Lucro'] = int(0)\n",
        "  dfcarteira['Percentual'] = int(0)\n",
        "  dfcarteira['Valor Compra'] = int(0)\n",
        "  dfcarteira['Valor Atual'] = int(0)\n",
        "\n",
        "  return(dfcarteira)\n"
      ],
      "execution_count": 8,
      "outputs": []
    },
    {
      "cell_type": "markdown",
      "metadata": {
        "id": "mCEq72UKaxT-"
      },
      "source": [
        "#4. Funções para carregar todas as Trades e filtra as que não viraram ordens\n",
        "\n",
        "---\n",
        "\n"
      ]
    },
    {
      "cell_type": "code",
      "source": [
        "# chamada no modo async\n",
        "async def fetch_my_trades():\n",
        "        var_since = exchange.parse8601('2021-01-01T00:00:00Z')\n",
        "        trades = await exchange.fetchMyTrades(since=var_since)\n",
        "        await exchange.close()\n",
        "        temp = trades\n",
        "        return(temp)"
      ],
      "metadata": {
        "id": "IQs6IBcWSOeQ"
      },
      "execution_count": 9,
      "outputs": []
    },
    {
      "cell_type": "code",
      "metadata": {
        "id": "65_6hvvhl6SS"
      },
      "source": [
        "# carrega as ordens\n",
        "def carrega_trades():\n",
        "\n",
        "\n",
        "  all_trades = asyncio.get_event_loop().run_until_complete(fetch_my_trades())\n",
        "  df_alltrades = pd.DataFrame(data = all_trades)\n",
        "\n",
        "  # trata os dicionatios dentro do dicionario, criando novas colunas com essas chaves \n",
        "  # e populando-as com os valores\n",
        "\n",
        "  dict_temp = df_alltrades.loc[0,'info']\n",
        "  for k in dict_temp.keys():\n",
        "    df_alltrades.loc[:,'info_'+k] = dict_temp[k]\n",
        "\n",
        "  dict_temp = df_alltrades.loc[0,'fee']\n",
        "  for k in dict_temp.keys():\n",
        "    df_alltrades.loc[:,'fee_'+k] =  dict_temp[k]\n",
        "\n",
        "  # cria o df das NEGOCIACOES QUE VIRARAM ordens,\n",
        "  #retirando aquelas ORDERS que nao foram executadas\n",
        "\n",
        "  df_trades = df_alltrades[~df_alltrades.order.isna()]\n",
        "  df_trades = df_trades.assign(fator=0)\n",
        "  df_trades = df_trades.assign(fatorquantidade=0)\n",
        "  df_trades = df_trades.assign(fatorvalor=0)\n",
        "  df_trades = df_trades.assign(quantacumulado=0)\n",
        "  df_trades = df_trades.assign(valormedio=0)\n",
        "  df_trades = df_trades.assign(valorinvestido=0)\n",
        "\n",
        "  return(df_trades,df_alltrades)"
      ],
      "execution_count": 10,
      "outputs": []
    },
    {
      "cell_type": "markdown",
      "metadata": {
        "id": "LqpWbqwa_uUx"
      },
      "source": [
        "#5. Funções para cálculos de médias"
      ]
    },
    {
      "cell_type": "code",
      "metadata": {
        "id": "ys_NKp6_YPCJ"
      },
      "source": [
        "## Funcao para criar valores que serão usados posteriormente para cálculo das médias\n",
        "def calcaux(df):\n",
        "  # separo o df desta moeda em duas partes: compra e venda\n",
        "\n",
        "  # aqui vou tratar as informaçoes sobre vendas\n",
        "  dfvenda = df.loc[df['side'] == 'sell']           # filtro somente o que é sell\n",
        "  dfvenda['fator'] = int(-1)                       # a variácel fator receve -1, que simboliza venda\n",
        "  dfvenda['fatorvalor'] = dfvenda['fator'] * dfvenda['price'] * dfvenda['amount']  # representa o montande em dollar do vendido\n",
        "  dfvenda['fatorquantidade'] = dfvenda['fator'] * dfvenda['amount']                # representa a quantidade vendida\n",
        "  # avgFillPrice => valor = price\n",
        "  # filledSize   => quantidade = amount\n",
        "\n",
        "  # aqui vou tratar as informaçoes sobre compras\n",
        "  dfcompra = df.loc[df['side'] == 'buy'] # filtro somente o que é buy\n",
        "  dfcompra['fator'] = int(1)\n",
        "  dfcompra['fatorvalor'] = dfcompra['fator'] * dfcompra['price'] * dfcompra['amount']\n",
        "  dfcompra['fatorquantidade'] = dfcompra['fator'] * dfcompra['amount']\n",
        "  \n",
        "  df = pd.concat([dfcompra, dfvenda])   # junto o df que fora dividido em compre e venda\n",
        "  df.sort_values(['timestamp','id'], ascending=True,inplace=True)  # ordeno por data\n",
        "  return(df)"
      ],
      "execution_count": 11,
      "outputs": []
    },
    {
      "cell_type": "code",
      "metadata": {
        "id": "ntEeWbMy4e8j"
      },
      "source": [
        "# funcao que calcula a média ponderada dos valor de compra\n",
        "def calc_mediaponderada(df):\n",
        "\n",
        "#8 side       (buy ou sell)\n",
        "#9 price      valor unitário do token\n",
        "#10 amount    quantidade\n",
        "#11 cost      valor total = token * quantidade\n",
        "#12 fee\n",
        "#33 fator     1 para compra e -1 para venda\n",
        "#34 fatorquantidade\n",
        "#35 fatorvalor\n",
        "#36 quantacumulado\n",
        "#37 valormedio\n",
        "#38 valorinvestido\n",
        "\n",
        "  for x in range(len(df)):\n",
        "    if df.iloc[x,8] == 'buy':\n",
        "      df.iloc[x,33] =  1    # fator\n",
        "    else:\n",
        "      df.iloc[x,33] = -1    # fator\n",
        "\n",
        "\n",
        "    df.iloc[x,34] = df.iloc[x,33]*df.iloc[x,10]       #34 fatorquantidade\n",
        "    df.iloc[x,35] = df.iloc[x,33]*df.iloc[x,11]       #35 fatorvalor\n",
        "    if x == 0:\n",
        "      df.iloc[0,36] = df.iloc[0,33]*df.iloc[0,10]      # quantidade acumulada\n",
        "      df.iloc[0,37] = df.iloc[0,33]*df.iloc[0,9]       # valor medio\n",
        "    else:\n",
        "      if df.iloc[x,8] == 'buy':\n",
        "        df.iloc[x,36] = df.iloc[x-1,36] + df.iloc[x,10]           #36 quantacumulado\n",
        "        df.iloc[x,37] =(df.iloc[x,9] * df.iloc[x,10]  + df.iloc[x-1,36] * df.iloc[x-1,37] ) / df.iloc[x,36] \n",
        "                       # valor atual * quanti atual + media * acumulado / total\n",
        "        #print(df.iloc[x,37])\n",
        "      else: # venda\n",
        "        df.iloc[x,36] = df.iloc[x-1,36] - df.iloc[x,10]          #36 quantacumulado\n",
        "        df.iloc[x,37] = df.iloc[x-1,37]          #37 valormedio  # quando vende, a media nao muda\n",
        "\n",
        "\n",
        "    df.iloc[x,38] = df.iloc[x,36] * df.iloc[x,37]               # valor investido baseado no valor medio\n",
        "    #print(f'vai limpar??: {df.iloc[x,38]}  =  {df.iloc[x,36]}  *  {df.iloc[x,37]}')\n",
        "    if (df.iloc[x,38] < 0.1):             # quando quantidade em US$ é pequena, representa resíduo e na verdade vendeu tudo        \n",
        "      df.iloc[x,36] = 0\n",
        "      df.iloc[x,37] = 0 \n",
        "      df.iloc[x,38] = 0 \n",
        "      \n",
        "  return(df)"
      ],
      "execution_count": 12,
      "outputs": []
    },
    {
      "cell_type": "code",
      "metadata": {
        "id": "kCSSdoY9NbL_"
      },
      "source": [
        "## Gera um arquivo com as informações presentes no dataframe\n",
        "def geraarquivohistorico(df,nome):\n",
        "#colocar no final as colunas que nao interessam\n",
        "\n",
        "  cols_at_end = ['info', 'timestamp', 'id', 'order', 'type',\n",
        "       'takerOrMaker', 'fee', 'info_id',\n",
        "       'info_market', 'info_future', 'info_baseCurrency', 'info_quoteCurrency',\n",
        "       'info_type', 'info_side', 'info_price', 'info_size', 'info_orderId',\n",
        "       'info_time', 'info_tradeId', 'info_feeRate', 'info_fee',\n",
        "       'info_feeCurrency', 'info_liquidity', 'fee_cost', 'fee_currency',\n",
        "       'fee_rate', 'fator', 'fatorquantidade', 'fatorvalor']\n",
        "\n",
        "  #cols_at_end = ['id', 'clientId','status','fator']\n",
        "  df = df[[c for c in df if c not in cols_at_end] \n",
        "        + [c for c in cols_at_end if c in df]]\n",
        "  #df.head()\n",
        "  df = df.sort_values('timestamp',ascending=False)\n",
        "  df.to_csv(nome, header=True,sep=';',decimal=',',index=False)"
      ],
      "execution_count": 13,
      "outputs": []
    },
    {
      "cell_type": "code",
      "metadata": {
        "id": "0z2KSlK9-YD9"
      },
      "source": [
        "## acrescenta /USD naquelas que nao sao tipo PERP,  LOCKED nem USD\n",
        "def nome_completo(acao):\n",
        "  if 'LOCKED' in acao:\n",
        "    return(acao)\n",
        "  elif 'PERP' in acao:\n",
        "    return(acao)\n",
        "  elif 'USD' in acao:\n",
        "    return(acao)\n",
        "  else:\n",
        "    return(acao + '/USD')"
      ],
      "execution_count": 14,
      "outputs": []
    },
    {
      "cell_type": "code",
      "metadata": {
        "id": "QB02dlEM4e9Y"
      },
      "source": [
        "# coloca no dataframe carteira as informações de média que foram previamente calculadas e presentes no dataframa dados_brutos\n",
        "# retorna a carteira com os valores de perda e genho\n",
        "def acrescenta_media(dfdados,dfcarteira):\n",
        "  valor_medio = 0\n",
        "  for i in range(len(dfcarteira)):            # loop para cada item na carteira\n",
        "    acao = dfcarteira.iloc[i]['Moeda']\n",
        "    acao = nome_completo(acao)           # acrescendo o sufixo no nome do token\n",
        "    #print(f'2 {acao}')\n",
        "    try:\n",
        "      # o valor medio de compra é pego no df trades, pegando o campo valormedio do registro mais recente\n",
        "      valor_medio = float(dfdados[dfdados['timestamp'] == dfdados[dfdados['symbol']==acao].timestamp.max()].valormedio)\n",
        "      # para o valor de marcado, é usado novamete a API e pego o valor instantaneo \n",
        "      valor_mercado =  exchange.markets[acao]['info']['price'] \n",
        "      flag = 1\n",
        "    except:\n",
        "\n",
        "      valor_medio = 0\n",
        "      valor_mercado = 0\n",
        "      flag = 0\n",
        "\n",
        "    dfcarteira.iloc[i,4] = round(valor_medio  * dfcarteira.iloc[i]['Saldo'],2)           # 4 é o montante investido\n",
        "    dfcarteira.iloc[i,5] = round(dfcarteira.iloc[i,3] - dfcarteira.iloc[i,4],2)               # 5 é o lucro, sendo 3 o montante corrente\n",
        "    if flag:\n",
        "      if (dfcarteira.iloc[i,4] > dfcarteira.iloc[i,3]):\n",
        "      # deu lucro\n",
        "        dfcarteira.iloc[i,6] = f'{(dfcarteira.iloc[i,3]/dfcarteira.iloc[i,4] - 1 ) * 100:.2f} %'\n",
        "      else:\n",
        "      # deu prejuizo\n",
        "        dfcarteira.iloc[i,6] = f'{-(1 - dfcarteira.iloc[i,3]/dfcarteira.iloc[i,4]) * 100:.2f} %'\n",
        "\n",
        "      dfcarteira.iloc[i,7] = valor_medio\n",
        "      dfcarteira.iloc[i,8] = valor_mercado\n",
        "    #print(valor_mercado)\n",
        "    #print(acao,dfcarteira.iloc[i]['Valor Investido'])\n",
        "  #print(saldo['Valor Investido'])\n",
        "  return(dfcarteira)"
      ],
      "execution_count": 15,
      "outputs": []
    },
    {
      "cell_type": "markdown",
      "metadata": {
        "id": "tSYQZx43OwqI"
      },
      "source": [
        "#6.  Funções para carregar as ordens abertas (FecthOpenOrders) para ordens NORMAIS\n"
      ]
    },
    {
      "cell_type": "code",
      "source": [
        "# chamada no modo async\n",
        "async def fetch_my_openorders():\n",
        "  exchange.options['fetchOpenOrders']['method'] = None\n",
        "  ordens = await exchange.fetchOpenOrders()\n",
        "  await exchange.close()\n",
        "  temp = ordens\n",
        "  return(temp)"
      ],
      "metadata": {
        "id": "6nQDmPEvgAqs"
      },
      "execution_count": 16,
      "outputs": []
    },
    {
      "cell_type": "code",
      "metadata": {
        "id": "oAsoe0G-O3cB"
      },
      "source": [
        "def carrega_ordens():\n",
        "  df_openorderssummary = pd.DataFrame()\n",
        "\n",
        "  open_orders = asyncio.get_event_loop().run_until_complete(fetch_my_openorders())\n",
        "\n",
        "  if len(open_orders) > 0 :\n",
        "    df_openorders = pd.DataFrame(data = open_orders)\n",
        "    dict_temp = df_openorders.loc[0,'info']\n",
        "  \n",
        "    # trata os dicionatios dentro do dicionario, criando novas colunas com essas chaves e populando-as com os valores\n",
        "    for k in dict_temp.keys():\n",
        "      df_openorders.loc[:,'info_'+k] = dict_temp[k]\n",
        "\n",
        "    df_openorderssummary = pd.DataFrame()\n",
        "    df_openorderssummary[['datetime','symbol','side','price','amount','cost']] = df_openorders[['datetime','symbol','side','price','amount','cost']]\n",
        "    df_openorderssummary['tipo'] = 'normal'\n",
        "    df_openorderssummary.cost = df_openorderssummary.price * df_openorderssummary.amount\n",
        "\n",
        "  return(df_openorderssummary)"
      ],
      "execution_count": 17,
      "outputs": []
    },
    {
      "cell_type": "markdown",
      "metadata": {
        "id": "_kIwMKPHX6DN"
      },
      "source": [
        "#7.  Funções para carregar as ordens abertas (fetchOpenOrders {PARAM}) para ordens GATILHO"
      ]
    },
    {
      "cell_type": "code",
      "source": [
        "# chamada no modo async\n",
        "async def fetch_my_trigerorders():\n",
        "  exchange.options['fetchOpenOrders']['method'] = 'privateGetConditionalOrders'\n",
        "  ordens = await exchange.fetchOpenOrders()\n",
        "  await exchange.close()\n",
        "  temp = ordens\n",
        "  return(temp)"
      ],
      "metadata": {
        "id": "3lgFYy_lhfHX"
      },
      "execution_count": 18,
      "outputs": []
    },
    {
      "cell_type": "code",
      "metadata": {
        "id": "m4p8o_vRYAJj"
      },
      "source": [
        "# carrega as ordens tipo gatilho. É a mesma função que carrega as ordens tradicionais, mas com um parametro especial\n",
        "def carrega_ordensgatilho():\n",
        "  df_triggerorderssummary = pd.DataFrame()\n",
        "  if exchange.has['fetchOpenOrders']:\n",
        "    trigger_orders = asyncio.get_event_loop().run_until_complete(fetch_my_trigerorders())\n",
        "\n",
        "  if len(trigger_orders) > 0 :\n",
        "    ## JA TRANSFORMA LOGO EM DATAFRAME\n",
        "    df_triggerorders = pd.DataFrame(data = trigger_orders)\n",
        "\n",
        "    # trata os dicionatios dentro do dicionario, criando novas colunas com essas chaves e populando-as com os valores\n",
        "    dict_temp = df_triggerorders.loc[0,'info']\n",
        "    for k in dict_temp.keys():\n",
        "      df_triggerorders.loc[:,'info_'+k] = dict_temp[k]\n",
        "\n",
        "\n",
        "    df_triggerorderssummary[['datetime','symbol','side','price','amount','cost']] = df_triggerorders[['datetime','symbol','side','price','amount','cost']]\n",
        "    df_triggerorderssummary['tipo'] = 'gatilho'\n",
        "    df_triggerorderssummary.cost = df_triggerorderssummary.price * df_triggerorderssummary.amount\n",
        "  return(df_triggerorderssummary)"
      ],
      "execution_count": 19,
      "outputs": []
    },
    {
      "cell_type": "markdown",
      "metadata": {
        "id": "Nf_WROxJDHdG"
      },
      "source": [
        "#8. MODULO PRINCIPAL"
      ]
    },
    {
      "cell_type": "markdown",
      "source": [
        "## 8.1 Primeiro carrega todas as cotações"
      ],
      "metadata": {
        "id": "fr3Dlda-ASbz"
      }
    },
    {
      "cell_type": "code",
      "source": [
        "# chamada no modo async\n",
        "async def load_my_markets():\n",
        "        trades = await exchange.load_markets(True)    # TRUE FORÇA A ATUALIZAR COM UMA NOVA CONSULTA\n",
        "        await exchange.close()\n",
        "        temp = trades\n",
        "        return(temp)"
      ],
      "metadata": {
        "id": "WJi5oawuSZBk"
      },
      "execution_count": 20,
      "outputs": []
    },
    {
      "cell_type": "markdown",
      "source": [
        "##8.2 Inicia as variáveis (dataframes) e o processamento"
      ],
      "metadata": {
        "id": "cMtcuKiLAb5w"
      }
    },
    {
      "cell_type": "code",
      "source": [
        "if __name__ == '__main__':\n",
        "  df_dadosbrutos = pd.DataFrame()\n",
        "  df_orders =      pd.DataFrame()\n",
        "  df_carteira =    pd.DataFrame()\n",
        "  df_trades =      pd.DataFrame()\n",
        "  df_alltrades =   pd.DataFrame()\n",
        "\n",
        "  markets = asyncio.get_event_loop().run_until_complete(load_my_markets())  # carrega todas as cotacoes correntes\n",
        "\n",
        "  df_carteira = carrega_carteira()\n",
        "  df_trades,df_alltrades = carrega_trades()\n",
        "\n",
        "  #sao todas as acoes que eu ja tive alguma ordem executada\n",
        "  listaacoes = df_trades[df_trades['amount'].notnull()].symbol\n",
        "  listaacoes = list(set(listaacoes))  # remove as duplicadas\n",
        "\n",
        "  # LOOP PARA CADA ACAO PRESENTE NA CARTEIRA\n",
        "  for acao in listaacoes:\n",
        "\n",
        "    #filtrar o df com a acao do loop\n",
        "    dftemp = df_trades[df_trades['symbol'] == acao]\n",
        "\n",
        "    #acrescenta as colunas auxiliares\n",
        "    dftemp = calcaux(dftemp)\n",
        " \n",
        "    #acrescenta as medias\n",
        "    dftemp = calc_mediaponderada(dftemp) # nova versao. Era #dftemp = calcmedia(dftemp)\n",
        "\n",
        "    #concatena resultado de cada acao em dadosbrutos\n",
        "    df_dadosbrutos = pd.concat([df_dadosbrutos, dftemp])\n",
        "  \n",
        "    # termino com as médias acrescentadas no df dados brutos, onde estao todas as trades\n",
        "\n",
        "  #colocar as informacoes em um arquivo\n",
        "  geraarquivohistorico(df_dadosbrutos,nome='ordens.csv')\n",
        "\n",
        "\n",
        "  # baseado nas médias presentes em dadosbrutos,\n",
        "  # calcula os ganhos e perdas e coloca no dataframe carteira\n",
        "  df_carteira = acrescenta_media(df_dadosbrutos,df_carteira)\n",
        "\n",
        "  # Vou consultar as ordens em aberto e no final guardar em um arquivo\n",
        "\n",
        "  df_openorderssummary    = carrega_ordens()\n",
        "  df_triggerorderssummary = carrega_ordensgatilho()\n",
        "\n",
        "  if len(df_openorderssummary) > 0:       # CASO TENHA ALGUMA ORDEM ABERTA\n",
        "    df_orders = df_orders.append(df_openorderssummary)\n",
        "    if len(df_triggerorderssummary) > 0:  # CASO TENHA ALGUMA ORDEM TRIGGER ABERTA\n",
        "      df_orders = df_orders.append(df_triggerorderssummary)\n",
        "\n",
        "    df_orders.sort_values(['symbol'],inplace=True, ascending=False)\n",
        "    df_orders.to_csv(\"openorders.csv\", header=True,sep=';',decimal=',',index=False)\n",
        "\n",
        "  df_carteira.sort_values(['Lucro'],inplace=True, ascending=False)\n",
        "  df_carteira.to_csv(\"carteira.csv\", header=True,sep=';',decimal=',',index=False)\n",
        "\n",
        "  df_alltrades.sort_values(['timestamp'],inplace=True, ascending=False)\n",
        "  df_alltrades.to_csv(\"alltrades.csv\", header=True,sep=';',decimal=',',index=False)"
      ],
      "metadata": {
        "id": "-zgjLjNNIMZX",
        "colab": {
          "base_uri": "https://localhost:8080/"
        },
        "outputId": "dfa5c73e-8141-407e-80f5-65a5fe06cd8a"
      },
      "execution_count": 21,
      "outputs": [
        {
          "output_type": "stream",
          "name": "stderr",
          "text": [
            "/usr/local/lib/python3.7/dist-packages/ipykernel_launcher.py:7: SettingWithCopyWarning: \n",
            "A value is trying to be set on a copy of a slice from a DataFrame.\n",
            "Try using .loc[row_indexer,col_indexer] = value instead\n",
            "\n",
            "See the caveats in the documentation: https://pandas.pydata.org/pandas-docs/stable/user_guide/indexing.html#returning-a-view-versus-a-copy\n",
            "  import sys\n",
            "/usr/local/lib/python3.7/dist-packages/ipykernel_launcher.py:8: SettingWithCopyWarning: \n",
            "A value is trying to be set on a copy of a slice from a DataFrame.\n",
            "Try using .loc[row_indexer,col_indexer] = value instead\n",
            "\n",
            "See the caveats in the documentation: https://pandas.pydata.org/pandas-docs/stable/user_guide/indexing.html#returning-a-view-versus-a-copy\n",
            "  \n",
            "/usr/local/lib/python3.7/dist-packages/ipykernel_launcher.py:9: SettingWithCopyWarning: \n",
            "A value is trying to be set on a copy of a slice from a DataFrame.\n",
            "Try using .loc[row_indexer,col_indexer] = value instead\n",
            "\n",
            "See the caveats in the documentation: https://pandas.pydata.org/pandas-docs/stable/user_guide/indexing.html#returning-a-view-versus-a-copy\n",
            "  if __name__ == '__main__':\n",
            "/usr/local/lib/python3.7/dist-packages/ipykernel_launcher.py:15: SettingWithCopyWarning: \n",
            "A value is trying to be set on a copy of a slice from a DataFrame.\n",
            "Try using .loc[row_indexer,col_indexer] = value instead\n",
            "\n",
            "See the caveats in the documentation: https://pandas.pydata.org/pandas-docs/stable/user_guide/indexing.html#returning-a-view-versus-a-copy\n",
            "  from ipykernel import kernelapp as app\n",
            "/usr/local/lib/python3.7/dist-packages/ipykernel_launcher.py:16: SettingWithCopyWarning: \n",
            "A value is trying to be set on a copy of a slice from a DataFrame.\n",
            "Try using .loc[row_indexer,col_indexer] = value instead\n",
            "\n",
            "See the caveats in the documentation: https://pandas.pydata.org/pandas-docs/stable/user_guide/indexing.html#returning-a-view-versus-a-copy\n",
            "  app.launch_new_instance()\n",
            "/usr/local/lib/python3.7/dist-packages/ipykernel_launcher.py:17: SettingWithCopyWarning: \n",
            "A value is trying to be set on a copy of a slice from a DataFrame.\n",
            "Try using .loc[row_indexer,col_indexer] = value instead\n",
            "\n",
            "See the caveats in the documentation: https://pandas.pydata.org/pandas-docs/stable/user_guide/indexing.html#returning-a-view-versus-a-copy\n"
          ]
        }
      ]
    },
    {
      "cell_type": "markdown",
      "source": [
        "#9. Relatórios em tela"
      ],
      "metadata": {
        "id": "GEPJVf__gwdq"
      }
    },
    {
      "cell_type": "markdown",
      "source": [
        "##9.1 Lista a Carteria ordenada pela coluna 'Lucro', acrescentando o saldo no cabeçalho.\n",
        "\n",
        "O campo \"Valor Compra\" possui o valor medio de compra da moeda, informação está que é usada para calcular o lucro ou prejuízo que é declarado no IR"
      ],
      "metadata": {
        "id": "ez2-IYVLlFMM"
      }
    },
    {
      "cell_type": "code",
      "source": [
        "#markets.keys()\n",
        "#markets['BTC/USD'].keys()\n",
        "markets['BTC/USD']['info']['price']\n",
        "\n",
        "#markets['SRM/USD'].keys()\n",
        "#markets['SRM/USD']['info']['price']\n"
      ],
      "metadata": {
        "colab": {
          "base_uri": "https://localhost:8080/",
          "height": 35
        },
        "id": "HLK5PzYxTjHr",
        "outputId": "cc4442a3-50e6-43c6-928c-998a9dd23fdb"
      },
      "execution_count": 22,
      "outputs": [
        {
          "output_type": "execute_result",
          "data": {
            "text/plain": [
              "'39782.0'"
            ],
            "application/vnd.google.colaboratory.intrinsic+json": {
              "type": "string"
            }
          },
          "metadata": {},
          "execution_count": 22
        }
      ]
    },
    {
      "cell_type": "code",
      "metadata": {
        "id": "IQAZmh-d_RP4",
        "colab": {
          "base_uri": "https://localhost:8080/",
          "height": 502
        },
        "outputId": "85aeea43-2db1-4c5d-d91f-15960f8f3bec"
      },
      "source": [
        "temp = 'Valor (' + str(int(df_carteira['Valor em USD'].sum())) + ' USD)'\n",
        "df_carteira.rename(columns={'Valor em USD' : temp},  inplace = True)\n",
        "df_carteira"
      ],
      "execution_count": 27,
      "outputs": [
        {
          "output_type": "execute_result",
          "data": {
            "text/plain": [
              "         Moeda         Saldo  Saldo Disponivel  Valor (3824 USD)  \\\n",
              "4          USD  1.319004e+00      1.319004e+00          1.319004   \n",
              "0   SRM_LOCKED  3.654046e-01      3.654046e-01          0.801698   \n",
              "7          FTT  1.398614e+00      0.000000e+00         57.390727   \n",
              "24        SHIB  2.499550e+06      2.499550e+06         58.964385   \n",
              "19         BNB  7.896979e-01      9.697940e-03        311.072068   \n",
              "5          BTC  4.027748e-02      1.587748e-02       1601.005934   \n",
              "37         ETH  1.079811e-01      9.811400e-04        317.177858   \n",
              "12         CRO  6.898758e+02      9.875800e+00        271.446307   \n",
              "13        GALA  5.598992e+02      9.899200e+00         98.418034   \n",
              "25         GRT  3.629347e+02      9.346600e-01        144.242098   \n",
              "39         ENJ  1.109608e+02      9.608194e-01        148.619232   \n",
              "44       POLIS  3.899298e+01      9.298000e-02         55.645907   \n",
              "2          SOL  3.904166e+00      6.562296e-02        384.042923   \n",
              "3          RAY  4.438567e+01      2.393007e+00        112.602015   \n",
              "1          SRM  1.193862e+02      7.889174e+01        262.049795   \n",
              "\n",
              "    Valor Investido   Lucro Percentual  Valor Compra Valor Atual  \n",
              "4              0.00    1.32          0      0.000000           0  \n",
              "0              0.00    0.80          0      0.000000           0  \n",
              "7             84.84  -27.45   -32.35 %     60.658070      41.074  \n",
              "24           104.88  -45.92   -43.78 %      0.000042   0.0000236  \n",
              "19           454.60 -143.53   -31.57 %    575.664740     394.144  \n",
              "5           1781.31 -180.30   -10.12 %  44226.053122     39782.0  \n",
              "37           499.41 -182.23   -36.49 %   4625.000000      2937.2  \n",
              "12           496.71 -225.26   -45.35 %      0.720000    0.392975  \n",
              "13           341.93 -243.51   -71.22 %      0.610702      0.1759  \n",
              "25           399.23 -254.99   -63.87 %      1.100000      0.3981  \n",
              "39           423.64 -275.02   -64.92 %      3.817890      1.3394  \n",
              "44           399.65 -344.00   -86.08 %     10.249345    1.427075  \n",
              "2            730.97 -346.93   -47.46 %    187.227890      98.385  \n",
              "3            528.19 -415.59   -78.68 %     11.900000      2.5373  \n",
              "1            983.44 -721.39   -73.35 %      8.237500       2.195  "
            ],
            "text/html": [
              "\n",
              "  <div id=\"df-d6243921-e4ed-4a79-a460-31442011b476\">\n",
              "    <div class=\"colab-df-container\">\n",
              "      <div>\n",
              "<style scoped>\n",
              "    .dataframe tbody tr th:only-of-type {\n",
              "        vertical-align: middle;\n",
              "    }\n",
              "\n",
              "    .dataframe tbody tr th {\n",
              "        vertical-align: top;\n",
              "    }\n",
              "\n",
              "    .dataframe thead th {\n",
              "        text-align: right;\n",
              "    }\n",
              "</style>\n",
              "<table border=\"1\" class=\"dataframe\">\n",
              "  <thead>\n",
              "    <tr style=\"text-align: right;\">\n",
              "      <th></th>\n",
              "      <th>Moeda</th>\n",
              "      <th>Saldo</th>\n",
              "      <th>Saldo Disponivel</th>\n",
              "      <th>Valor (3824 USD)</th>\n",
              "      <th>Valor Investido</th>\n",
              "      <th>Lucro</th>\n",
              "      <th>Percentual</th>\n",
              "      <th>Valor Compra</th>\n",
              "      <th>Valor Atual</th>\n",
              "    </tr>\n",
              "  </thead>\n",
              "  <tbody>\n",
              "    <tr>\n",
              "      <th>4</th>\n",
              "      <td>USD</td>\n",
              "      <td>1.319004e+00</td>\n",
              "      <td>1.319004e+00</td>\n",
              "      <td>1.319004</td>\n",
              "      <td>0.00</td>\n",
              "      <td>1.32</td>\n",
              "      <td>0</td>\n",
              "      <td>0.000000</td>\n",
              "      <td>0</td>\n",
              "    </tr>\n",
              "    <tr>\n",
              "      <th>0</th>\n",
              "      <td>SRM_LOCKED</td>\n",
              "      <td>3.654046e-01</td>\n",
              "      <td>3.654046e-01</td>\n",
              "      <td>0.801698</td>\n",
              "      <td>0.00</td>\n",
              "      <td>0.80</td>\n",
              "      <td>0</td>\n",
              "      <td>0.000000</td>\n",
              "      <td>0</td>\n",
              "    </tr>\n",
              "    <tr>\n",
              "      <th>7</th>\n",
              "      <td>FTT</td>\n",
              "      <td>1.398614e+00</td>\n",
              "      <td>0.000000e+00</td>\n",
              "      <td>57.390727</td>\n",
              "      <td>84.84</td>\n",
              "      <td>-27.45</td>\n",
              "      <td>-32.35 %</td>\n",
              "      <td>60.658070</td>\n",
              "      <td>41.074</td>\n",
              "    </tr>\n",
              "    <tr>\n",
              "      <th>24</th>\n",
              "      <td>SHIB</td>\n",
              "      <td>2.499550e+06</td>\n",
              "      <td>2.499550e+06</td>\n",
              "      <td>58.964385</td>\n",
              "      <td>104.88</td>\n",
              "      <td>-45.92</td>\n",
              "      <td>-43.78 %</td>\n",
              "      <td>0.000042</td>\n",
              "      <td>0.0000236</td>\n",
              "    </tr>\n",
              "    <tr>\n",
              "      <th>19</th>\n",
              "      <td>BNB</td>\n",
              "      <td>7.896979e-01</td>\n",
              "      <td>9.697940e-03</td>\n",
              "      <td>311.072068</td>\n",
              "      <td>454.60</td>\n",
              "      <td>-143.53</td>\n",
              "      <td>-31.57 %</td>\n",
              "      <td>575.664740</td>\n",
              "      <td>394.144</td>\n",
              "    </tr>\n",
              "    <tr>\n",
              "      <th>5</th>\n",
              "      <td>BTC</td>\n",
              "      <td>4.027748e-02</td>\n",
              "      <td>1.587748e-02</td>\n",
              "      <td>1601.005934</td>\n",
              "      <td>1781.31</td>\n",
              "      <td>-180.30</td>\n",
              "      <td>-10.12 %</td>\n",
              "      <td>44226.053122</td>\n",
              "      <td>39782.0</td>\n",
              "    </tr>\n",
              "    <tr>\n",
              "      <th>37</th>\n",
              "      <td>ETH</td>\n",
              "      <td>1.079811e-01</td>\n",
              "      <td>9.811400e-04</td>\n",
              "      <td>317.177858</td>\n",
              "      <td>499.41</td>\n",
              "      <td>-182.23</td>\n",
              "      <td>-36.49 %</td>\n",
              "      <td>4625.000000</td>\n",
              "      <td>2937.2</td>\n",
              "    </tr>\n",
              "    <tr>\n",
              "      <th>12</th>\n",
              "      <td>CRO</td>\n",
              "      <td>6.898758e+02</td>\n",
              "      <td>9.875800e+00</td>\n",
              "      <td>271.446307</td>\n",
              "      <td>496.71</td>\n",
              "      <td>-225.26</td>\n",
              "      <td>-45.35 %</td>\n",
              "      <td>0.720000</td>\n",
              "      <td>0.392975</td>\n",
              "    </tr>\n",
              "    <tr>\n",
              "      <th>13</th>\n",
              "      <td>GALA</td>\n",
              "      <td>5.598992e+02</td>\n",
              "      <td>9.899200e+00</td>\n",
              "      <td>98.418034</td>\n",
              "      <td>341.93</td>\n",
              "      <td>-243.51</td>\n",
              "      <td>-71.22 %</td>\n",
              "      <td>0.610702</td>\n",
              "      <td>0.1759</td>\n",
              "    </tr>\n",
              "    <tr>\n",
              "      <th>25</th>\n",
              "      <td>GRT</td>\n",
              "      <td>3.629347e+02</td>\n",
              "      <td>9.346600e-01</td>\n",
              "      <td>144.242098</td>\n",
              "      <td>399.23</td>\n",
              "      <td>-254.99</td>\n",
              "      <td>-63.87 %</td>\n",
              "      <td>1.100000</td>\n",
              "      <td>0.3981</td>\n",
              "    </tr>\n",
              "    <tr>\n",
              "      <th>39</th>\n",
              "      <td>ENJ</td>\n",
              "      <td>1.109608e+02</td>\n",
              "      <td>9.608194e-01</td>\n",
              "      <td>148.619232</td>\n",
              "      <td>423.64</td>\n",
              "      <td>-275.02</td>\n",
              "      <td>-64.92 %</td>\n",
              "      <td>3.817890</td>\n",
              "      <td>1.3394</td>\n",
              "    </tr>\n",
              "    <tr>\n",
              "      <th>44</th>\n",
              "      <td>POLIS</td>\n",
              "      <td>3.899298e+01</td>\n",
              "      <td>9.298000e-02</td>\n",
              "      <td>55.645907</td>\n",
              "      <td>399.65</td>\n",
              "      <td>-344.00</td>\n",
              "      <td>-86.08 %</td>\n",
              "      <td>10.249345</td>\n",
              "      <td>1.427075</td>\n",
              "    </tr>\n",
              "    <tr>\n",
              "      <th>2</th>\n",
              "      <td>SOL</td>\n",
              "      <td>3.904166e+00</td>\n",
              "      <td>6.562296e-02</td>\n",
              "      <td>384.042923</td>\n",
              "      <td>730.97</td>\n",
              "      <td>-346.93</td>\n",
              "      <td>-47.46 %</td>\n",
              "      <td>187.227890</td>\n",
              "      <td>98.385</td>\n",
              "    </tr>\n",
              "    <tr>\n",
              "      <th>3</th>\n",
              "      <td>RAY</td>\n",
              "      <td>4.438567e+01</td>\n",
              "      <td>2.393007e+00</td>\n",
              "      <td>112.602015</td>\n",
              "      <td>528.19</td>\n",
              "      <td>-415.59</td>\n",
              "      <td>-78.68 %</td>\n",
              "      <td>11.900000</td>\n",
              "      <td>2.5373</td>\n",
              "    </tr>\n",
              "    <tr>\n",
              "      <th>1</th>\n",
              "      <td>SRM</td>\n",
              "      <td>1.193862e+02</td>\n",
              "      <td>7.889174e+01</td>\n",
              "      <td>262.049795</td>\n",
              "      <td>983.44</td>\n",
              "      <td>-721.39</td>\n",
              "      <td>-73.35 %</td>\n",
              "      <td>8.237500</td>\n",
              "      <td>2.195</td>\n",
              "    </tr>\n",
              "  </tbody>\n",
              "</table>\n",
              "</div>\n",
              "      <button class=\"colab-df-convert\" onclick=\"convertToInteractive('df-d6243921-e4ed-4a79-a460-31442011b476')\"\n",
              "              title=\"Convert this dataframe to an interactive table.\"\n",
              "              style=\"display:none;\">\n",
              "        \n",
              "  <svg xmlns=\"http://www.w3.org/2000/svg\" height=\"24px\"viewBox=\"0 0 24 24\"\n",
              "       width=\"24px\">\n",
              "    <path d=\"M0 0h24v24H0V0z\" fill=\"none\"/>\n",
              "    <path d=\"M18.56 5.44l.94 2.06.94-2.06 2.06-.94-2.06-.94-.94-2.06-.94 2.06-2.06.94zm-11 1L8.5 8.5l.94-2.06 2.06-.94-2.06-.94L8.5 2.5l-.94 2.06-2.06.94zm10 10l.94 2.06.94-2.06 2.06-.94-2.06-.94-.94-2.06-.94 2.06-2.06.94z\"/><path d=\"M17.41 7.96l-1.37-1.37c-.4-.4-.92-.59-1.43-.59-.52 0-1.04.2-1.43.59L10.3 9.45l-7.72 7.72c-.78.78-.78 2.05 0 2.83L4 21.41c.39.39.9.59 1.41.59.51 0 1.02-.2 1.41-.59l7.78-7.78 2.81-2.81c.8-.78.8-2.07 0-2.86zM5.41 20L4 18.59l7.72-7.72 1.47 1.35L5.41 20z\"/>\n",
              "  </svg>\n",
              "      </button>\n",
              "      \n",
              "  <style>\n",
              "    .colab-df-container {\n",
              "      display:flex;\n",
              "      flex-wrap:wrap;\n",
              "      gap: 12px;\n",
              "    }\n",
              "\n",
              "    .colab-df-convert {\n",
              "      background-color: #E8F0FE;\n",
              "      border: none;\n",
              "      border-radius: 50%;\n",
              "      cursor: pointer;\n",
              "      display: none;\n",
              "      fill: #1967D2;\n",
              "      height: 32px;\n",
              "      padding: 0 0 0 0;\n",
              "      width: 32px;\n",
              "    }\n",
              "\n",
              "    .colab-df-convert:hover {\n",
              "      background-color: #E2EBFA;\n",
              "      box-shadow: 0px 1px 2px rgba(60, 64, 67, 0.3), 0px 1px 3px 1px rgba(60, 64, 67, 0.15);\n",
              "      fill: #174EA6;\n",
              "    }\n",
              "\n",
              "    [theme=dark] .colab-df-convert {\n",
              "      background-color: #3B4455;\n",
              "      fill: #D2E3FC;\n",
              "    }\n",
              "\n",
              "    [theme=dark] .colab-df-convert:hover {\n",
              "      background-color: #434B5C;\n",
              "      box-shadow: 0px 1px 3px 1px rgba(0, 0, 0, 0.15);\n",
              "      filter: drop-shadow(0px 1px 2px rgba(0, 0, 0, 0.3));\n",
              "      fill: #FFFFFF;\n",
              "    }\n",
              "  </style>\n",
              "\n",
              "      <script>\n",
              "        const buttonEl =\n",
              "          document.querySelector('#df-d6243921-e4ed-4a79-a460-31442011b476 button.colab-df-convert');\n",
              "        buttonEl.style.display =\n",
              "          google.colab.kernel.accessAllowed ? 'block' : 'none';\n",
              "\n",
              "        async function convertToInteractive(key) {\n",
              "          const element = document.querySelector('#df-d6243921-e4ed-4a79-a460-31442011b476');\n",
              "          const dataTable =\n",
              "            await google.colab.kernel.invokeFunction('convertToInteractive',\n",
              "                                                     [key], {});\n",
              "          if (!dataTable) return;\n",
              "\n",
              "          const docLinkHtml = 'Like what you see? Visit the ' +\n",
              "            '<a target=\"_blank\" href=https://colab.research.google.com/notebooks/data_table.ipynb>data table notebook</a>'\n",
              "            + ' to learn more about interactive tables.';\n",
              "          element.innerHTML = '';\n",
              "          dataTable['output_type'] = 'display_data';\n",
              "          await google.colab.output.renderOutput(dataTable, element);\n",
              "          const docLink = document.createElement('div');\n",
              "          docLink.innerHTML = docLinkHtml;\n",
              "          element.appendChild(docLink);\n",
              "        }\n",
              "      </script>\n",
              "    </div>\n",
              "  </div>\n",
              "  "
            ]
          },
          "metadata": {},
          "execution_count": 27
        }
      ]
    },
    {
      "cell_type": "markdown",
      "source": [
        "##9.2 Lista as Ordens abertas, indicando o tipo (normar ou gatinho)"
      ],
      "metadata": {
        "id": "dueGbwkKleRC"
      }
    },
    {
      "cell_type": "code",
      "metadata": {
        "id": "3pIi9a2_BRBP",
        "colab": {
          "base_uri": "https://localhost:8080/",
          "height": 351
        },
        "outputId": "2a388541-2a8b-45f1-f09b-eab3c1577462"
      },
      "source": [
        "df_orders.head(100)"
      ],
      "execution_count": 28,
      "outputs": [
        {
          "output_type": "execute_result",
          "data": {
            "text/plain": [
              "                   datetime     symbol  side        price        amount  \\\n",
              "0  2021-12-03T01:27:44.770Z   SHIB/USD  sell      0.00005  2.500000e+06   \n",
              "6  2021-12-26T20:09:54.348Z  POLIS/USD  sell     11.30000  3.890000e+01   \n",
              "4  2021-12-16T01:23:00.806Z    GRT/USD  sell      1.20000  3.620000e+02   \n",
              "2  2021-12-07T23:55:59.292Z   GALA/USD  sell      0.67000  5.500000e+02   \n",
              "5  2021-12-25T23:29:10.816Z    ETH/USD  sell   5000.00000  1.070000e-01   \n",
              "1  2021-12-07T23:37:37.205Z    ENJ/USD  sell      3.99000  1.100000e+02   \n",
              "3  2021-12-16T01:20:56.708Z    CRO/USD  sell      0.79000  6.800000e+02   \n",
              "7  2022-03-29T11:34:33.540Z    BTC/USD  sell  55000.00000  9.900000e-03   \n",
              "8  2022-04-11T19:53:49.680Z    BTC/USD  sell  45000.00000  1.450000e-02   \n",
              "0  2021-12-06T23:36:01.088Z    BNB/USD  sell    661.50000  7.800000e-01   \n",
              "\n",
              "     cost     tipo  \n",
              "0  126.00  gatilho  \n",
              "6  439.57   normal  \n",
              "4  434.40   normal  \n",
              "2  368.50   normal  \n",
              "5  535.00   normal  \n",
              "1  438.90   normal  \n",
              "3  537.20   normal  \n",
              "7  544.50   normal  \n",
              "8  652.50   normal  \n",
              "0  515.97   normal  "
            ],
            "text/html": [
              "\n",
              "  <div id=\"df-9415c618-9414-43b7-9090-fd034d0e8669\">\n",
              "    <div class=\"colab-df-container\">\n",
              "      <div>\n",
              "<style scoped>\n",
              "    .dataframe tbody tr th:only-of-type {\n",
              "        vertical-align: middle;\n",
              "    }\n",
              "\n",
              "    .dataframe tbody tr th {\n",
              "        vertical-align: top;\n",
              "    }\n",
              "\n",
              "    .dataframe thead th {\n",
              "        text-align: right;\n",
              "    }\n",
              "</style>\n",
              "<table border=\"1\" class=\"dataframe\">\n",
              "  <thead>\n",
              "    <tr style=\"text-align: right;\">\n",
              "      <th></th>\n",
              "      <th>datetime</th>\n",
              "      <th>symbol</th>\n",
              "      <th>side</th>\n",
              "      <th>price</th>\n",
              "      <th>amount</th>\n",
              "      <th>cost</th>\n",
              "      <th>tipo</th>\n",
              "    </tr>\n",
              "  </thead>\n",
              "  <tbody>\n",
              "    <tr>\n",
              "      <th>0</th>\n",
              "      <td>2021-12-03T01:27:44.770Z</td>\n",
              "      <td>SHIB/USD</td>\n",
              "      <td>sell</td>\n",
              "      <td>0.00005</td>\n",
              "      <td>2.500000e+06</td>\n",
              "      <td>126.00</td>\n",
              "      <td>gatilho</td>\n",
              "    </tr>\n",
              "    <tr>\n",
              "      <th>6</th>\n",
              "      <td>2021-12-26T20:09:54.348Z</td>\n",
              "      <td>POLIS/USD</td>\n",
              "      <td>sell</td>\n",
              "      <td>11.30000</td>\n",
              "      <td>3.890000e+01</td>\n",
              "      <td>439.57</td>\n",
              "      <td>normal</td>\n",
              "    </tr>\n",
              "    <tr>\n",
              "      <th>4</th>\n",
              "      <td>2021-12-16T01:23:00.806Z</td>\n",
              "      <td>GRT/USD</td>\n",
              "      <td>sell</td>\n",
              "      <td>1.20000</td>\n",
              "      <td>3.620000e+02</td>\n",
              "      <td>434.40</td>\n",
              "      <td>normal</td>\n",
              "    </tr>\n",
              "    <tr>\n",
              "      <th>2</th>\n",
              "      <td>2021-12-07T23:55:59.292Z</td>\n",
              "      <td>GALA/USD</td>\n",
              "      <td>sell</td>\n",
              "      <td>0.67000</td>\n",
              "      <td>5.500000e+02</td>\n",
              "      <td>368.50</td>\n",
              "      <td>normal</td>\n",
              "    </tr>\n",
              "    <tr>\n",
              "      <th>5</th>\n",
              "      <td>2021-12-25T23:29:10.816Z</td>\n",
              "      <td>ETH/USD</td>\n",
              "      <td>sell</td>\n",
              "      <td>5000.00000</td>\n",
              "      <td>1.070000e-01</td>\n",
              "      <td>535.00</td>\n",
              "      <td>normal</td>\n",
              "    </tr>\n",
              "    <tr>\n",
              "      <th>1</th>\n",
              "      <td>2021-12-07T23:37:37.205Z</td>\n",
              "      <td>ENJ/USD</td>\n",
              "      <td>sell</td>\n",
              "      <td>3.99000</td>\n",
              "      <td>1.100000e+02</td>\n",
              "      <td>438.90</td>\n",
              "      <td>normal</td>\n",
              "    </tr>\n",
              "    <tr>\n",
              "      <th>3</th>\n",
              "      <td>2021-12-16T01:20:56.708Z</td>\n",
              "      <td>CRO/USD</td>\n",
              "      <td>sell</td>\n",
              "      <td>0.79000</td>\n",
              "      <td>6.800000e+02</td>\n",
              "      <td>537.20</td>\n",
              "      <td>normal</td>\n",
              "    </tr>\n",
              "    <tr>\n",
              "      <th>7</th>\n",
              "      <td>2022-03-29T11:34:33.540Z</td>\n",
              "      <td>BTC/USD</td>\n",
              "      <td>sell</td>\n",
              "      <td>55000.00000</td>\n",
              "      <td>9.900000e-03</td>\n",
              "      <td>544.50</td>\n",
              "      <td>normal</td>\n",
              "    </tr>\n",
              "    <tr>\n",
              "      <th>8</th>\n",
              "      <td>2022-04-11T19:53:49.680Z</td>\n",
              "      <td>BTC/USD</td>\n",
              "      <td>sell</td>\n",
              "      <td>45000.00000</td>\n",
              "      <td>1.450000e-02</td>\n",
              "      <td>652.50</td>\n",
              "      <td>normal</td>\n",
              "    </tr>\n",
              "    <tr>\n",
              "      <th>0</th>\n",
              "      <td>2021-12-06T23:36:01.088Z</td>\n",
              "      <td>BNB/USD</td>\n",
              "      <td>sell</td>\n",
              "      <td>661.50000</td>\n",
              "      <td>7.800000e-01</td>\n",
              "      <td>515.97</td>\n",
              "      <td>normal</td>\n",
              "    </tr>\n",
              "  </tbody>\n",
              "</table>\n",
              "</div>\n",
              "      <button class=\"colab-df-convert\" onclick=\"convertToInteractive('df-9415c618-9414-43b7-9090-fd034d0e8669')\"\n",
              "              title=\"Convert this dataframe to an interactive table.\"\n",
              "              style=\"display:none;\">\n",
              "        \n",
              "  <svg xmlns=\"http://www.w3.org/2000/svg\" height=\"24px\"viewBox=\"0 0 24 24\"\n",
              "       width=\"24px\">\n",
              "    <path d=\"M0 0h24v24H0V0z\" fill=\"none\"/>\n",
              "    <path d=\"M18.56 5.44l.94 2.06.94-2.06 2.06-.94-2.06-.94-.94-2.06-.94 2.06-2.06.94zm-11 1L8.5 8.5l.94-2.06 2.06-.94-2.06-.94L8.5 2.5l-.94 2.06-2.06.94zm10 10l.94 2.06.94-2.06 2.06-.94-2.06-.94-.94-2.06-.94 2.06-2.06.94z\"/><path d=\"M17.41 7.96l-1.37-1.37c-.4-.4-.92-.59-1.43-.59-.52 0-1.04.2-1.43.59L10.3 9.45l-7.72 7.72c-.78.78-.78 2.05 0 2.83L4 21.41c.39.39.9.59 1.41.59.51 0 1.02-.2 1.41-.59l7.78-7.78 2.81-2.81c.8-.78.8-2.07 0-2.86zM5.41 20L4 18.59l7.72-7.72 1.47 1.35L5.41 20z\"/>\n",
              "  </svg>\n",
              "      </button>\n",
              "      \n",
              "  <style>\n",
              "    .colab-df-container {\n",
              "      display:flex;\n",
              "      flex-wrap:wrap;\n",
              "      gap: 12px;\n",
              "    }\n",
              "\n",
              "    .colab-df-convert {\n",
              "      background-color: #E8F0FE;\n",
              "      border: none;\n",
              "      border-radius: 50%;\n",
              "      cursor: pointer;\n",
              "      display: none;\n",
              "      fill: #1967D2;\n",
              "      height: 32px;\n",
              "      padding: 0 0 0 0;\n",
              "      width: 32px;\n",
              "    }\n",
              "\n",
              "    .colab-df-convert:hover {\n",
              "      background-color: #E2EBFA;\n",
              "      box-shadow: 0px 1px 2px rgba(60, 64, 67, 0.3), 0px 1px 3px 1px rgba(60, 64, 67, 0.15);\n",
              "      fill: #174EA6;\n",
              "    }\n",
              "\n",
              "    [theme=dark] .colab-df-convert {\n",
              "      background-color: #3B4455;\n",
              "      fill: #D2E3FC;\n",
              "    }\n",
              "\n",
              "    [theme=dark] .colab-df-convert:hover {\n",
              "      background-color: #434B5C;\n",
              "      box-shadow: 0px 1px 3px 1px rgba(0, 0, 0, 0.15);\n",
              "      filter: drop-shadow(0px 1px 2px rgba(0, 0, 0, 0.3));\n",
              "      fill: #FFFFFF;\n",
              "    }\n",
              "  </style>\n",
              "\n",
              "      <script>\n",
              "        const buttonEl =\n",
              "          document.querySelector('#df-9415c618-9414-43b7-9090-fd034d0e8669 button.colab-df-convert');\n",
              "        buttonEl.style.display =\n",
              "          google.colab.kernel.accessAllowed ? 'block' : 'none';\n",
              "\n",
              "        async function convertToInteractive(key) {\n",
              "          const element = document.querySelector('#df-9415c618-9414-43b7-9090-fd034d0e8669');\n",
              "          const dataTable =\n",
              "            await google.colab.kernel.invokeFunction('convertToInteractive',\n",
              "                                                     [key], {});\n",
              "          if (!dataTable) return;\n",
              "\n",
              "          const docLinkHtml = 'Like what you see? Visit the ' +\n",
              "            '<a target=\"_blank\" href=https://colab.research.google.com/notebooks/data_table.ipynb>data table notebook</a>'\n",
              "            + ' to learn more about interactive tables.';\n",
              "          element.innerHTML = '';\n",
              "          dataTable['output_type'] = 'display_data';\n",
              "          await google.colab.output.renderOutput(dataTable, element);\n",
              "          const docLink = document.createElement('div');\n",
              "          docLink.innerHTML = docLinkHtml;\n",
              "          element.appendChild(docLink);\n",
              "        }\n",
              "      </script>\n",
              "    </div>\n",
              "  </div>\n",
              "  "
            ]
          },
          "metadata": {},
          "execution_count": 28
        }
      ]
    },
    {
      "cell_type": "markdown",
      "source": [
        "##9.3 Lista as informacões mais relevantes de transações sobre uma determinada moeda. Nesse exemplo BTC/USD"
      ],
      "metadata": {
        "id": "d3ILZXkGmOGV"
      }
    },
    {
      "cell_type": "code",
      "metadata": {
        "id": "ZOw1SmSDFJNQ",
        "colab": {
          "base_uri": "https://localhost:8080/",
          "height": 170
        },
        "outputId": "a3e454a1-4665-4835-db9b-a6378cbcfe10"
      },
      "source": [
        "df_dadosbrutos[df_dadosbrutos.symbol == 'SRM/USD'][['datetime','side','quantacumulado','price','amount','cost']].sort_values('datetime',ascending=False)\n"
      ],
      "execution_count": 29,
      "outputs": [
        {
          "output_type": "execute_result",
          "data": {
            "text/plain": [
              "                    datetime  side  quantacumulado  price  amount     cost\n",
              "64  2021-10-05T16:46:26.617Z  sell           119.0  8.222     1.0    8.222\n",
              "53  2021-10-01T20:21:14.875Z   buy           120.0  8.200     4.0   32.800\n",
              "52  2021-10-01T20:21:14.686Z   buy           116.0  8.200    56.0  459.200\n",
              "51  2021-10-01T19:23:10.227Z   buy            60.0  8.275    60.0  496.500"
            ],
            "text/html": [
              "\n",
              "  <div id=\"df-18243bcb-86a7-4b93-af42-5bca3cdd3e6d\">\n",
              "    <div class=\"colab-df-container\">\n",
              "      <div>\n",
              "<style scoped>\n",
              "    .dataframe tbody tr th:only-of-type {\n",
              "        vertical-align: middle;\n",
              "    }\n",
              "\n",
              "    .dataframe tbody tr th {\n",
              "        vertical-align: top;\n",
              "    }\n",
              "\n",
              "    .dataframe thead th {\n",
              "        text-align: right;\n",
              "    }\n",
              "</style>\n",
              "<table border=\"1\" class=\"dataframe\">\n",
              "  <thead>\n",
              "    <tr style=\"text-align: right;\">\n",
              "      <th></th>\n",
              "      <th>datetime</th>\n",
              "      <th>side</th>\n",
              "      <th>quantacumulado</th>\n",
              "      <th>price</th>\n",
              "      <th>amount</th>\n",
              "      <th>cost</th>\n",
              "    </tr>\n",
              "  </thead>\n",
              "  <tbody>\n",
              "    <tr>\n",
              "      <th>64</th>\n",
              "      <td>2021-10-05T16:46:26.617Z</td>\n",
              "      <td>sell</td>\n",
              "      <td>119.0</td>\n",
              "      <td>8.222</td>\n",
              "      <td>1.0</td>\n",
              "      <td>8.222</td>\n",
              "    </tr>\n",
              "    <tr>\n",
              "      <th>53</th>\n",
              "      <td>2021-10-01T20:21:14.875Z</td>\n",
              "      <td>buy</td>\n",
              "      <td>120.0</td>\n",
              "      <td>8.200</td>\n",
              "      <td>4.0</td>\n",
              "      <td>32.800</td>\n",
              "    </tr>\n",
              "    <tr>\n",
              "      <th>52</th>\n",
              "      <td>2021-10-01T20:21:14.686Z</td>\n",
              "      <td>buy</td>\n",
              "      <td>116.0</td>\n",
              "      <td>8.200</td>\n",
              "      <td>56.0</td>\n",
              "      <td>459.200</td>\n",
              "    </tr>\n",
              "    <tr>\n",
              "      <th>51</th>\n",
              "      <td>2021-10-01T19:23:10.227Z</td>\n",
              "      <td>buy</td>\n",
              "      <td>60.0</td>\n",
              "      <td>8.275</td>\n",
              "      <td>60.0</td>\n",
              "      <td>496.500</td>\n",
              "    </tr>\n",
              "  </tbody>\n",
              "</table>\n",
              "</div>\n",
              "      <button class=\"colab-df-convert\" onclick=\"convertToInteractive('df-18243bcb-86a7-4b93-af42-5bca3cdd3e6d')\"\n",
              "              title=\"Convert this dataframe to an interactive table.\"\n",
              "              style=\"display:none;\">\n",
              "        \n",
              "  <svg xmlns=\"http://www.w3.org/2000/svg\" height=\"24px\"viewBox=\"0 0 24 24\"\n",
              "       width=\"24px\">\n",
              "    <path d=\"M0 0h24v24H0V0z\" fill=\"none\"/>\n",
              "    <path d=\"M18.56 5.44l.94 2.06.94-2.06 2.06-.94-2.06-.94-.94-2.06-.94 2.06-2.06.94zm-11 1L8.5 8.5l.94-2.06 2.06-.94-2.06-.94L8.5 2.5l-.94 2.06-2.06.94zm10 10l.94 2.06.94-2.06 2.06-.94-2.06-.94-.94-2.06-.94 2.06-2.06.94z\"/><path d=\"M17.41 7.96l-1.37-1.37c-.4-.4-.92-.59-1.43-.59-.52 0-1.04.2-1.43.59L10.3 9.45l-7.72 7.72c-.78.78-.78 2.05 0 2.83L4 21.41c.39.39.9.59 1.41.59.51 0 1.02-.2 1.41-.59l7.78-7.78 2.81-2.81c.8-.78.8-2.07 0-2.86zM5.41 20L4 18.59l7.72-7.72 1.47 1.35L5.41 20z\"/>\n",
              "  </svg>\n",
              "      </button>\n",
              "      \n",
              "  <style>\n",
              "    .colab-df-container {\n",
              "      display:flex;\n",
              "      flex-wrap:wrap;\n",
              "      gap: 12px;\n",
              "    }\n",
              "\n",
              "    .colab-df-convert {\n",
              "      background-color: #E8F0FE;\n",
              "      border: none;\n",
              "      border-radius: 50%;\n",
              "      cursor: pointer;\n",
              "      display: none;\n",
              "      fill: #1967D2;\n",
              "      height: 32px;\n",
              "      padding: 0 0 0 0;\n",
              "      width: 32px;\n",
              "    }\n",
              "\n",
              "    .colab-df-convert:hover {\n",
              "      background-color: #E2EBFA;\n",
              "      box-shadow: 0px 1px 2px rgba(60, 64, 67, 0.3), 0px 1px 3px 1px rgba(60, 64, 67, 0.15);\n",
              "      fill: #174EA6;\n",
              "    }\n",
              "\n",
              "    [theme=dark] .colab-df-convert {\n",
              "      background-color: #3B4455;\n",
              "      fill: #D2E3FC;\n",
              "    }\n",
              "\n",
              "    [theme=dark] .colab-df-convert:hover {\n",
              "      background-color: #434B5C;\n",
              "      box-shadow: 0px 1px 3px 1px rgba(0, 0, 0, 0.15);\n",
              "      filter: drop-shadow(0px 1px 2px rgba(0, 0, 0, 0.3));\n",
              "      fill: #FFFFFF;\n",
              "    }\n",
              "  </style>\n",
              "\n",
              "      <script>\n",
              "        const buttonEl =\n",
              "          document.querySelector('#df-18243bcb-86a7-4b93-af42-5bca3cdd3e6d button.colab-df-convert');\n",
              "        buttonEl.style.display =\n",
              "          google.colab.kernel.accessAllowed ? 'block' : 'none';\n",
              "\n",
              "        async function convertToInteractive(key) {\n",
              "          const element = document.querySelector('#df-18243bcb-86a7-4b93-af42-5bca3cdd3e6d');\n",
              "          const dataTable =\n",
              "            await google.colab.kernel.invokeFunction('convertToInteractive',\n",
              "                                                     [key], {});\n",
              "          if (!dataTable) return;\n",
              "\n",
              "          const docLinkHtml = 'Like what you see? Visit the ' +\n",
              "            '<a target=\"_blank\" href=https://colab.research.google.com/notebooks/data_table.ipynb>data table notebook</a>'\n",
              "            + ' to learn more about interactive tables.';\n",
              "          element.innerHTML = '';\n",
              "          dataTable['output_type'] = 'display_data';\n",
              "          await google.colab.output.renderOutput(dataTable, element);\n",
              "          const docLink = document.createElement('div');\n",
              "          docLink.innerHTML = docLinkHtml;\n",
              "          element.appendChild(docLink);\n",
              "        }\n",
              "      </script>\n",
              "    </div>\n",
              "  </div>\n",
              "  "
            ]
          },
          "metadata": {},
          "execution_count": 29
        }
      ]
    }
  ]
}